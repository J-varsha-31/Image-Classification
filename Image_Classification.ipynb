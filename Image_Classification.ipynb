{
  "nbformat": 4,
  "nbformat_minor": 0,
  "metadata": {
    "colab": {
      "name": "Image Classification.ipynb",
      "provenance": [],
      "authorship_tag": "ABX9TyPK8CABTkzl84eaXnGzfqXE",
      "include_colab_link": true
    },
    "kernelspec": {
      "display_name": "Python 3",
      "name": "python3"
    },
    "language_info": {
      "name": "python"
    }
  },
  "cells": [
    {
      "cell_type": "markdown",
      "metadata": {
        "id": "view-in-github",
        "colab_type": "text"
      },
      "source": [
        "<a href=\"https://colab.research.google.com/github/J-varsha-31/Image-Classification/blob/main/Image_Classification.ipynb\" target=\"_parent\"><img src=\"https://colab.research.google.com/assets/colab-badge.svg\" alt=\"Open In Colab\"/></a>"
      ]
    },
    {
      "cell_type": "code",
      "metadata": {
        "id": "GTqE8SrgDCPu",
        "colab": {
          "base_uri": "https://localhost:8080/"
        },
        "outputId": "e56ddd81-ac2e-4984-910f-1016a8249cc3"
      },
      "source": [
        "!pip install bing-image-downloader"
      ],
      "execution_count": 1,
      "outputs": [
        {
          "output_type": "stream",
          "text": [
            "Collecting bing-image-downloader\n",
            "  Downloading https://files.pythonhosted.org/packages/0d/bf/537a61030b84ae4cd5022d5c7b014fd9bc3ce7c02358919153a6658a61d3/bing_image_downloader-1.0.4-py3-none-any.whl\n",
            "Installing collected packages: bing-image-downloader\n",
            "Successfully installed bing-image-downloader-1.0.4\n"
          ],
          "name": "stdout"
        }
      ]
    },
    {
      "cell_type": "code",
      "metadata": {
        "id": "4CKDCR5-DfOZ"
      },
      "source": [
        "!mkdir images"
      ],
      "execution_count": 2,
      "outputs": []
    },
    {
      "cell_type": "code",
      "metadata": {
        "id": "WRYeTbnbD2H9",
        "colab": {
          "base_uri": "https://localhost:8080/"
        },
        "outputId": "7fe550dc-afb8-49f0-a5dd-0961a7d20cf1"
      },
      "source": [
        "from bing_image_downloader import  downloader\n",
        "downloader.download(\"sport cricket bat\",limit=30,output_dir='images',adult_filter_off=True)"
      ],
      "execution_count": 3,
      "outputs": [
        {
          "output_type": "stream",
          "text": [
            "\n",
            "\n",
            "[!!]Indexing page: 1\n",
            "\n",
            "[%] Indexed 12 Images on Page 1.\n",
            "\n",
            "===============================================\n",
            "\n",
            "[%] Downloading Image #1 from https://pics.clipartpng.com/idownload-image.php?file=Cricket_Ball_PNG_Clip_Art-1356.png\n",
            "[Error]Invalid image, not saving https://pics.clipartpng.com/idownload-image.php?file=Cricket_Ball_PNG_Clip_Art-1356.png\n",
            "\n",
            "[!] Issue getting: https://pics.clipartpng.com/idownload-image.php?file=Cricket_Ball_PNG_Clip_Art-1356.png\n",
            "[!] Error:: No active exception to reraise\n",
            "[%] Downloading Image #1 from https://i.guim.co.uk/img/static/sys-images/Guardian/Pix/pictures/2013/7/18/1374114632479/Bat-streak-008.jpg?w=1200&amp;q=55&amp;auto=format&amp;usm=12&amp;fit=max&amp;s=b2f1e35f260045c7041660e623a5382c\n",
            "[!] Issue getting: https://i.guim.co.uk/img/static/sys-images/Guardian/Pix/pictures/2013/7/18/1374114632479/Bat-streak-008.jpg?w=1200&amp;q=55&amp;auto=format&amp;usm=12&amp;fit=max&amp;s=b2f1e35f260045c7041660e623a5382c\n",
            "[!] Error:: HTTP Error 401: Unauthorized - missing signature\n",
            "[%] Downloading Image #1 from https://i.kinja-img.com/gawker-media/image/upload/s---kHnmafD--/c_fill,fl_progressive,g_center,h_900,q_80,w_1600/vfnvwjmm9mhfpwgbwljw.jpg\n",
            "[%] File Downloaded !\n",
            "\n",
            "[%] Downloading Image #2 from https://static2.stuff.co.nz/1294803254/486/4534486.jpg\n",
            "[%] File Downloaded !\n",
            "\n",
            "[%] Downloading Image #3 from https://static.vecteezy.com/system/resources/previews/000/364/969/original/funky-cricket-logo-vector.jpg\n",
            "[%] File Downloaded !\n",
            "\n",
            "[%] Downloading Image #4 from https://cdn.images.express.co.uk/img/dynamic/172/750x445/1115762.jpg\n",
            "[%] File Downloaded !\n",
            "\n",
            "[%] Downloading Image #5 from https://cdn.images.express.co.uk/img/dynamic/68/590x/secondary/105723.jpg\n",
            "[%] File Downloaded !\n",
            "\n",
            "[%] Downloading Image #6 from http://www.famousquotes123.com/gifs/cat-images/cricket.jpg\n",
            "[%] File Downloaded !\n",
            "\n",
            "[%] Downloading Image #7 from http://www.onlinegameslist.org/wp-content/uploads/2019/04/little-singham.jpg\n",
            "[%] File Downloaded !\n",
            "\n",
            "[%] Downloading Image #8 from https://www.oldbookillustrations.com/wp-content/high-res/1891/university-course-4-1200.jpg\n",
            "[%] File Downloaded !\n",
            "\n",
            "[%] Downloading Image #9 from https://imagevars.gulfnews.com/2020/04/21/Bat-woman_1719ddb6873_medium.jpg\n",
            "[Error]Invalid image, not saving https://imagevars.gulfnews.com/2020/04/21/Bat-woman_1719ddb6873_medium.jpg\n",
            "\n",
            "[!] Issue getting: https://imagevars.gulfnews.com/2020/04/21/Bat-woman_1719ddb6873_medium.jpg\n",
            "[!] Error:: No active exception to reraise\n",
            "[%] Downloading Image #9 from https://static.independent.co.uk/s3fs-public/thumbnails/image/2016/08/24/11/o-batman-and-robin-facebook.jpg\n",
            "[%] File Downloaded !\n",
            "\n",
            "\n",
            "\n",
            "[!!]Indexing page: 2\n",
            "\n",
            "[%] Indexed 12 Images on Page 2.\n",
            "\n",
            "===============================================\n",
            "\n",
            "[%] Downloading Image #10 from https://pics.clipartpng.com/idownload-image.php?file=Cricket_Ball_PNG_Clip_Art-1356.png\n",
            "[Error]Invalid image, not saving https://pics.clipartpng.com/idownload-image.php?file=Cricket_Ball_PNG_Clip_Art-1356.png\n",
            "\n",
            "[!] Issue getting: https://pics.clipartpng.com/idownload-image.php?file=Cricket_Ball_PNG_Clip_Art-1356.png\n",
            "[!] Error:: No active exception to reraise\n",
            "[%] Downloading Image #10 from https://i.guim.co.uk/img/static/sys-images/Guardian/Pix/pictures/2013/7/18/1374114632479/Bat-streak-008.jpg?w=1200&amp;q=55&amp;auto=format&amp;usm=12&amp;fit=max&amp;s=b2f1e35f260045c7041660e623a5382c\n",
            "[!] Issue getting: https://i.guim.co.uk/img/static/sys-images/Guardian/Pix/pictures/2013/7/18/1374114632479/Bat-streak-008.jpg?w=1200&amp;q=55&amp;auto=format&amp;usm=12&amp;fit=max&amp;s=b2f1e35f260045c7041660e623a5382c\n",
            "[!] Error:: HTTP Error 401: Unauthorized - missing signature\n",
            "[%] Downloading Image #10 from https://i.kinja-img.com/gawker-media/image/upload/s---kHnmafD--/c_fill,fl_progressive,g_center,h_900,q_80,w_1600/vfnvwjmm9mhfpwgbwljw.jpg\n",
            "[%] File Downloaded !\n",
            "\n",
            "[%] Downloading Image #11 from https://static2.stuff.co.nz/1294803254/486/4534486.jpg\n",
            "[%] File Downloaded !\n",
            "\n",
            "[%] Downloading Image #12 from https://static.vecteezy.com/system/resources/previews/000/364/969/original/funky-cricket-logo-vector.jpg\n",
            "[%] File Downloaded !\n",
            "\n",
            "[%] Downloading Image #13 from https://cdn.images.express.co.uk/img/dynamic/172/750x445/1115762.jpg\n",
            "[%] File Downloaded !\n",
            "\n",
            "[%] Downloading Image #14 from https://cdn.images.express.co.uk/img/dynamic/68/590x/secondary/105723.jpg\n",
            "[%] File Downloaded !\n",
            "\n",
            "[%] Downloading Image #15 from http://www.famousquotes123.com/gifs/cat-images/cricket.jpg\n",
            "[%] File Downloaded !\n",
            "\n",
            "[%] Downloading Image #16 from http://www.onlinegameslist.org/wp-content/uploads/2019/04/little-singham.jpg\n",
            "[%] File Downloaded !\n",
            "\n",
            "[%] Downloading Image #17 from https://www.oldbookillustrations.com/wp-content/high-res/1891/university-course-4-1200.jpg\n",
            "[%] File Downloaded !\n",
            "\n",
            "[%] Downloading Image #18 from https://imagevars.gulfnews.com/2020/04/21/Bat-woman_1719ddb6873_medium.jpg\n",
            "[Error]Invalid image, not saving https://imagevars.gulfnews.com/2020/04/21/Bat-woman_1719ddb6873_medium.jpg\n",
            "\n",
            "[!] Issue getting: https://imagevars.gulfnews.com/2020/04/21/Bat-woman_1719ddb6873_medium.jpg\n",
            "[!] Error:: No active exception to reraise\n",
            "[%] Downloading Image #18 from https://static.independent.co.uk/s3fs-public/thumbnails/image/2016/08/24/11/o-batman-and-robin-facebook.jpg\n",
            "[%] File Downloaded !\n",
            "\n",
            "\n",
            "\n",
            "[!!]Indexing page: 3\n",
            "\n",
            "[%] Indexed 11 Images on Page 3.\n",
            "\n",
            "===============================================\n",
            "\n",
            "[%] Downloading Image #19 from https://i.guim.co.uk/img/static/sys-images/Guardian/Pix/pictures/2013/7/18/1374114632479/Bat-streak-008.jpg?w=1200&amp;q=55&amp;auto=format&amp;usm=12&amp;fit=max&amp;s=b2f1e35f260045c7041660e623a5382c\n",
            "[!] Issue getting: https://i.guim.co.uk/img/static/sys-images/Guardian/Pix/pictures/2013/7/18/1374114632479/Bat-streak-008.jpg?w=1200&amp;q=55&amp;auto=format&amp;usm=12&amp;fit=max&amp;s=b2f1e35f260045c7041660e623a5382c\n",
            "[!] Error:: HTTP Error 401: Unauthorized - missing signature\n",
            "[%] Downloading Image #19 from https://i.kinja-img.com/gawker-media/image/upload/s---kHnmafD--/c_fill,fl_progressive,g_center,h_900,q_80,w_1600/vfnvwjmm9mhfpwgbwljw.jpg\n",
            "[%] File Downloaded !\n",
            "\n",
            "[%] Downloading Image #20 from https://static2.stuff.co.nz/1294803254/486/4534486.jpg\n",
            "[%] File Downloaded !\n",
            "\n",
            "[%] Downloading Image #21 from https://static.vecteezy.com/system/resources/previews/000/364/969/original/funky-cricket-logo-vector.jpg\n",
            "[%] File Downloaded !\n",
            "\n",
            "[%] Downloading Image #22 from https://cdn.images.express.co.uk/img/dynamic/172/750x445/1115762.jpg\n",
            "[%] File Downloaded !\n",
            "\n",
            "[%] Downloading Image #23 from https://cdn.images.express.co.uk/img/dynamic/68/590x/secondary/105723.jpg\n",
            "[%] File Downloaded !\n",
            "\n",
            "[%] Downloading Image #24 from http://www.famousquotes123.com/gifs/cat-images/cricket.jpg\n",
            "[%] File Downloaded !\n",
            "\n",
            "[%] Downloading Image #25 from http://www.onlinegameslist.org/wp-content/uploads/2019/04/little-singham.jpg\n",
            "[%] File Downloaded !\n",
            "\n",
            "[%] Downloading Image #26 from https://www.oldbookillustrations.com/wp-content/high-res/1891/university-course-4-1200.jpg\n",
            "[%] File Downloaded !\n",
            "\n",
            "[%] Downloading Image #27 from https://imagevars.gulfnews.com/2020/04/21/Bat-woman_1719ddb6873_medium.jpg\n",
            "[Error]Invalid image, not saving https://imagevars.gulfnews.com/2020/04/21/Bat-woman_1719ddb6873_medium.jpg\n",
            "\n",
            "[!] Issue getting: https://imagevars.gulfnews.com/2020/04/21/Bat-woman_1719ddb6873_medium.jpg\n",
            "[!] Error:: No active exception to reraise\n",
            "[%] Downloading Image #27 from https://static.independent.co.uk/s3fs-public/thumbnails/image/2016/08/24/11/o-batman-and-robin-facebook.jpg\n",
            "[%] File Downloaded !\n",
            "\n",
            "\n",
            "\n",
            "[!!]Indexing page: 4\n",
            "\n",
            "[%] Indexed 10 Images on Page 4.\n",
            "\n",
            "===============================================\n",
            "\n",
            "[%] Downloading Image #28 from https://i.kinja-img.com/gawker-media/image/upload/s---kHnmafD--/c_fill,fl_progressive,g_center,h_900,q_80,w_1600/vfnvwjmm9mhfpwgbwljw.jpg\n",
            "[%] File Downloaded !\n",
            "\n",
            "[%] Downloading Image #29 from https://static2.stuff.co.nz/1294803254/486/4534486.jpg\n",
            "[%] File Downloaded !\n",
            "\n",
            "[%] Downloading Image #30 from https://static.vecteezy.com/system/resources/previews/000/364/969/original/funky-cricket-logo-vector.jpg\n",
            "[%] File Downloaded !\n",
            "\n",
            "\n",
            "\n",
            "[%] Done. Downloaded 30 images.\n",
            "\n",
            "===============================================\n",
            "\n"
          ],
          "name": "stdout"
        }
      ]
    },
    {
      "cell_type": "code",
      "metadata": {
        "colab": {
          "base_uri": "https://localhost:8080/"
        },
        "id": "qSJxisJcLn9x",
        "outputId": "f2d74289-54b3-4cb9-fe7f-6de24f2ba32d"
      },
      "source": [
        "from bing_image_downloader import  downloader\n",
        "downloader.download(\"apple fruit\",limit=30,output_dir='images',adult_filter_off=True)"
      ],
      "execution_count": 4,
      "outputs": [
        {
          "output_type": "stream",
          "text": [
            "\n",
            "\n",
            "[!!]Indexing page: 1\n",
            "\n",
            "[%] Indexed 12 Images on Page 1.\n",
            "\n",
            "===============================================\n",
            "\n",
            "[%] Downloading Image #1 from https://www.kingsdown-uk.com/wp-content/uploads/2016/10/Fruit.jpg\n",
            "[%] File Downloaded !\n",
            "\n",
            "[%] Downloading Image #2 from https://chocolatewithgrace.com/wp-content/uploads/2018/06/Homemade-Blueberry-Pie-Filling-5.jpg\n",
            "[%] File Downloaded !\n",
            "\n",
            "[%] Downloading Image #3 from http://thegraphicsfairy.com/wp-content/uploads/2014/06/Vintage-Lady-Liberty-Clip-Art-GraphicsFairy.jpg\n",
            "[%] File Downloaded !\n",
            "\n",
            "[%] Downloading Image #4 from http://i1.ytimg.com/vi/AZG7DTeG2p8/hqdefault.jpg\n",
            "[%] File Downloaded !\n",
            "\n",
            "[%] Downloading Image #5 from https://banner2.kisspng.com/20180401/slq/kisspng-oxford-english-dictionary-social-media-face-with-t-laughing-5ac184204f0ef9.7960831115226317123238.jpg\n",
            "[%] File Downloaded !\n",
            "\n",
            "[%] Downloading Image #6 from https://cdn11.bigcommerce.com/s-7a906/images/stencil/1000x1000/products/9795/8765/Stella_Rosa_Rosso__09423.1436546205.jpg?c=2\n",
            "[%] File Downloaded !\n",
            "\n",
            "[%] Downloading Image #7 from http://www.omafra.gov.on.ca/IPM/images/apples/insects/apples_san-jose-scale_04_zoom.jpg\n",
            "[%] File Downloaded !\n",
            "\n",
            "[%] Downloading Image #8 from https://images2.alphacoders.com/481/481967.jpg\n",
            "[!] Issue getting: https://images2.alphacoders.com/481/481967.jpg\n",
            "[!] Error:: HTTP Error 403: Forbidden\n",
            "[%] Downloading Image #8 from http://almostedenplants.com/shopping/images/full/Crataegus%20marshallii%20foliage.jpg\n",
            "[%] File Downloaded !\n",
            "\n",
            "[%] Downloading Image #9 from https://wallpapershome.com/images/wallpapers/cocktails-2160x3840-juice-fruit-pineapple-coconut-melon-ice-745.jpg\n",
            "[%] File Downloaded !\n",
            "\n",
            "[%] Downloading Image #10 from http://www.mommodesign.com/sites/default/files/styles/full_width/public/images/gallery/824/strawberryballoons.jpg?itok=vkpItvao\n",
            "[%] File Downloaded !\n",
            "\n",
            "[%] Downloading Image #11 from http://www.african-organic.com/wp-content/uploads/2015/08/Prod-Applebananas.jpg\n",
            "[%] File Downloaded !\n",
            "\n",
            "\n",
            "\n",
            "[!!]Indexing page: 2\n",
            "\n",
            "[%] Indexed 12 Images on Page 2.\n",
            "\n",
            "===============================================\n",
            "\n",
            "[%] Downloading Image #12 from https://www.kingsdown-uk.com/wp-content/uploads/2016/10/Fruit.jpg\n",
            "[%] File Downloaded !\n",
            "\n",
            "[%] Downloading Image #13 from https://chocolatewithgrace.com/wp-content/uploads/2018/06/Homemade-Blueberry-Pie-Filling-5.jpg\n",
            "[%] File Downloaded !\n",
            "\n",
            "[%] Downloading Image #14 from http://thegraphicsfairy.com/wp-content/uploads/2014/06/Vintage-Lady-Liberty-Clip-Art-GraphicsFairy.jpg\n",
            "[%] File Downloaded !\n",
            "\n",
            "[%] Downloading Image #15 from http://i1.ytimg.com/vi/AZG7DTeG2p8/hqdefault.jpg\n",
            "[%] File Downloaded !\n",
            "\n",
            "[%] Downloading Image #16 from https://banner2.kisspng.com/20180401/slq/kisspng-oxford-english-dictionary-social-media-face-with-t-laughing-5ac184204f0ef9.7960831115226317123238.jpg\n",
            "[%] File Downloaded !\n",
            "\n",
            "[%] Downloading Image #17 from https://cdn11.bigcommerce.com/s-7a906/images/stencil/1000x1000/products/9795/8765/Stella_Rosa_Rosso__09423.1436546205.jpg?c=2\n",
            "[%] File Downloaded !\n",
            "\n",
            "[%] Downloading Image #18 from http://www.omafra.gov.on.ca/IPM/images/apples/insects/apples_san-jose-scale_04_zoom.jpg\n",
            "[%] File Downloaded !\n",
            "\n",
            "[%] Downloading Image #19 from https://images2.alphacoders.com/481/481967.jpg\n",
            "[!] Issue getting: https://images2.alphacoders.com/481/481967.jpg\n",
            "[!] Error:: HTTP Error 403: Forbidden\n",
            "[%] Downloading Image #19 from http://almostedenplants.com/shopping/images/full/Crataegus%20marshallii%20foliage.jpg\n",
            "[%] File Downloaded !\n",
            "\n",
            "[%] Downloading Image #20 from https://wallpapershome.com/images/wallpapers/cocktails-2160x3840-juice-fruit-pineapple-coconut-melon-ice-745.jpg\n",
            "[%] File Downloaded !\n",
            "\n",
            "[%] Downloading Image #21 from http://www.mommodesign.com/sites/default/files/styles/full_width/public/images/gallery/824/strawberryballoons.jpg?itok=vkpItvao\n",
            "[%] File Downloaded !\n",
            "\n",
            "[%] Downloading Image #22 from http://www.african-organic.com/wp-content/uploads/2015/08/Prod-Applebananas.jpg\n",
            "[%] File Downloaded !\n",
            "\n",
            "\n",
            "\n",
            "[!!]Indexing page: 3\n",
            "\n",
            "[%] Indexed 11 Images on Page 3.\n",
            "\n",
            "===============================================\n",
            "\n",
            "[%] Downloading Image #23 from http://i1.ytimg.com/vi/AZG7DTeG2p8/hqdefault.jpg\n",
            "[%] File Downloaded !\n",
            "\n",
            "[%] Downloading Image #24 from https://banner2.kisspng.com/20180401/slq/kisspng-oxford-english-dictionary-social-media-face-with-t-laughing-5ac184204f0ef9.7960831115226317123238.jpg\n",
            "[%] File Downloaded !\n",
            "\n",
            "[%] Downloading Image #25 from http://thegraphicsfairy.com/wp-content/uploads/2014/06/Vintage-Lady-Liberty-Clip-Art-GraphicsFairy.jpg\n",
            "[%] File Downloaded !\n",
            "\n",
            "[%] Downloading Image #26 from http://www.omafra.gov.on.ca/IPM/images/apples/insects/apples_san-jose-scale_04_zoom.jpg\n",
            "[%] File Downloaded !\n",
            "\n",
            "[%] Downloading Image #27 from https://cdn11.bigcommerce.com/s-7a906/images/stencil/1000x1000/products/9795/8765/Stella_Rosa_Rosso__09423.1436546205.jpg?c=2\n",
            "[%] File Downloaded !\n",
            "\n",
            "[%] Downloading Image #28 from https://wallpapershome.com/images/wallpapers/cocktails-2160x3840-juice-fruit-pineapple-coconut-melon-ice-745.jpg\n",
            "[%] File Downloaded !\n",
            "\n",
            "[%] Downloading Image #29 from http://almostedenplants.com/shopping/images/full/Crataegus%20marshallii%20foliage.jpg\n",
            "[%] File Downloaded !\n",
            "\n",
            "[%] Downloading Image #30 from http://www.african-organic.com/wp-content/uploads/2015/08/Prod-Applebananas.jpg\n",
            "[%] File Downloaded !\n",
            "\n",
            "\n",
            "\n",
            "[%] Done. Downloaded 30 images.\n",
            "\n",
            "===============================================\n",
            "\n"
          ],
          "name": "stdout"
        }
      ]
    },
    {
      "cell_type": "code",
      "metadata": {
        "colab": {
          "base_uri": "https://localhost:8080/"
        },
        "id": "g1DUX5CbL33L",
        "outputId": "ae40d705-d804-4e7d-e7ed-757f61cff4d1"
      },
      "source": [
        "from bing_image_downloader import  downloader\n",
        "downloader.download(\"sunflower\",limit=30,output_dir='images',adult_filter_off=True)"
      ],
      "execution_count": 5,
      "outputs": [
        {
          "output_type": "stream",
          "text": [
            "\n",
            "\n",
            "[!!]Indexing page: 1\n",
            "\n",
            "[%] Indexed 12 Images on Page 1.\n",
            "\n",
            "===============================================\n",
            "\n",
            "[%] Downloading Image #1 from http://www.minnesotawildflowers.info/udata/r9ndp23q/yellow/stiff-sunflower_0825_182754.jpg\n",
            "[%] File Downloaded !\n",
            "\n",
            "[%] Downloading Image #2 from https://aleaccessories.com/wp-content/uploads/2019/06/5235F751-C0D2-4CEF-9446-AC2846BA90D4.jpeg\n",
            "[%] File Downloaded !\n",
            "\n",
            "[%] Downloading Image #3 from https://www.hdwallpapers.in/download/blue_sky_daisies-1366x768.jpg\n",
            "[%] File Downloaded !\n",
            "\n",
            "[%] Downloading Image #4 from https://www.hdwallpapers.in/download/widescreen_sunflower-1920x1200.jpg\n",
            "[%] File Downloaded !\n",
            "\n",
            "[%] Downloading Image #5 from http://www.wallpapers13.com/wp-content/uploads/2015/12/Sunflower-Field-Wallpaper-2560X1600-3-1920x1440.jpg\n",
            "[%] File Downloaded !\n",
            "\n",
            "[%] Downloading Image #6 from http://cdn.shopify.com/s/files/1/1122/4336/products/Vevet_Queen_2_1024x1024.jpg?v=1454616220\n",
            "[%] File Downloaded !\n",
            "\n",
            "[%] Downloading Image #7 from http://www.flowershopnetwork.com/blog/wp-content/uploads/2013/11/Sympathy-tribute-from-Edgewater-Home-and-Garden-in-Portage-WI.jpg\n",
            "[%] File Downloaded !\n",
            "\n",
            "[%] Downloading Image #8 from http://www.diytomake.com/wp-content/uploads/2015/08/entry-way-table-with-storage-idea.jpg\n",
            "[%] File Downloaded !\n",
            "\n",
            "[%] Downloading Image #9 from https://i.pinimg.com/736x/85/7a/1f/857a1ff3da794fa55382e26090252ee9--good-morning-sunshine-my-sunshine.jpg\n",
            "[%] File Downloaded !\n",
            "\n",
            "[%] Downloading Image #10 from https://ohbestdayever.com/wp-content/uploads/2018/07/rustic-backyard-wedding-hay-bale-seating-ideas.jpg\n",
            "[%] File Downloaded !\n",
            "\n",
            "[%] Downloading Image #11 from https://www.desktopbackground.org/download/540x960/2015/10/01/1019552_beautiful-vintage-photography-tumblr-themes_1680x1050_h.jpg\n",
            "[%] File Downloaded !\n",
            "\n",
            "[%] Downloading Image #12 from https://blog.machinefinder.com/wp-content/uploads/2009/08/20090831215644.jpg\n",
            "[%] File Downloaded !\n",
            "\n",
            "\n",
            "\n",
            "[!!]Indexing page: 2\n",
            "\n",
            "[%] Indexed 12 Images on Page 2.\n",
            "\n",
            "===============================================\n",
            "\n",
            "[%] Downloading Image #13 from http://www.minnesotawildflowers.info/udata/r9ndp23q/yellow/stiff-sunflower_0825_182754.jpg\n",
            "[%] File Downloaded !\n",
            "\n",
            "[%] Downloading Image #14 from https://aleaccessories.com/wp-content/uploads/2019/06/5235F751-C0D2-4CEF-9446-AC2846BA90D4.jpeg\n",
            "[%] File Downloaded !\n",
            "\n",
            "[%] Downloading Image #15 from https://www.hdwallpapers.in/download/blue_sky_daisies-1366x768.jpg\n",
            "[%] File Downloaded !\n",
            "\n",
            "[%] Downloading Image #16 from https://www.hdwallpapers.in/download/widescreen_sunflower-1920x1200.jpg\n",
            "[%] File Downloaded !\n",
            "\n",
            "[%] Downloading Image #17 from http://www.wallpapers13.com/wp-content/uploads/2015/12/Sunflower-Field-Wallpaper-2560X1600-3-1920x1440.jpg\n",
            "[%] File Downloaded !\n",
            "\n",
            "[%] Downloading Image #18 from http://cdn.shopify.com/s/files/1/1122/4336/products/Vevet_Queen_2_1024x1024.jpg?v=1454616220\n",
            "[%] File Downloaded !\n",
            "\n",
            "[%] Downloading Image #19 from http://www.flowershopnetwork.com/blog/wp-content/uploads/2013/11/Sympathy-tribute-from-Edgewater-Home-and-Garden-in-Portage-WI.jpg\n",
            "[%] File Downloaded !\n",
            "\n",
            "[%] Downloading Image #20 from http://www.diytomake.com/wp-content/uploads/2015/08/entry-way-table-with-storage-idea.jpg\n",
            "[%] File Downloaded !\n",
            "\n",
            "[%] Downloading Image #21 from https://i.pinimg.com/736x/85/7a/1f/857a1ff3da794fa55382e26090252ee9--good-morning-sunshine-my-sunshine.jpg\n",
            "[%] File Downloaded !\n",
            "\n",
            "[%] Downloading Image #22 from https://ohbestdayever.com/wp-content/uploads/2018/07/rustic-backyard-wedding-hay-bale-seating-ideas.jpg\n",
            "[%] File Downloaded !\n",
            "\n",
            "[%] Downloading Image #23 from https://www.desktopbackground.org/download/540x960/2015/10/01/1019552_beautiful-vintage-photography-tumblr-themes_1680x1050_h.jpg\n",
            "[%] File Downloaded !\n",
            "\n",
            "[%] Downloading Image #24 from https://blog.machinefinder.com/wp-content/uploads/2009/08/20090831215644.jpg\n",
            "[%] File Downloaded !\n",
            "\n",
            "\n",
            "\n",
            "[!!]Indexing page: 3\n",
            "\n",
            "[%] Indexed 11 Images on Page 3.\n",
            "\n",
            "===============================================\n",
            "\n",
            "[%] Downloading Image #25 from https://www.hdwallpapers.in/download/widescreen_sunflower-1920x1200.jpg\n",
            "[%] File Downloaded !\n",
            "\n",
            "[%] Downloading Image #26 from https://aleaccessories.com/wp-content/uploads/2019/06/5235F751-C0D2-4CEF-9446-AC2846BA90D4.jpeg\n",
            "[%] File Downloaded !\n",
            "\n",
            "[%] Downloading Image #27 from http://www.diytomake.com/wp-content/uploads/2015/08/entry-way-table-with-storage-idea.jpg\n",
            "[%] File Downloaded !\n",
            "\n",
            "[%] Downloading Image #28 from http://cdn.shopify.com/s/files/1/1122/4336/products/Vevet_Queen_2_1024x1024.jpg?v=1454616220\n",
            "[%] File Downloaded !\n",
            "\n",
            "[%] Downloading Image #29 from https://ohbestdayever.com/wp-content/uploads/2018/07/rustic-backyard-wedding-hay-bale-seating-ideas.jpg\n",
            "[%] File Downloaded !\n",
            "\n",
            "[%] Downloading Image #30 from https://i.pinimg.com/736x/85/7a/1f/857a1ff3da794fa55382e26090252ee9--good-morning-sunshine-my-sunshine.jpg\n",
            "[%] File Downloaded !\n",
            "\n",
            "\n",
            "\n",
            "[%] Done. Downloaded 30 images.\n",
            "\n",
            "===============================================\n",
            "\n"
          ],
          "name": "stdout"
        }
      ]
    },
    {
      "cell_type": "code",
      "metadata": {
        "colab": {
          "base_uri": "https://localhost:8080/"
        },
        "id": "GcOIVcM7MD7w",
        "outputId": "ac8d4af0-ef2e-48c8-adc9-05f1c7fde5dc"
      },
      "source": [
        "import numpy as np\n",
        "\n",
        "a = np.array([[1,2,3,4,5],\n",
        "             [4,5,6,7,8]])\n",
        "a.ndim"
      ],
      "execution_count": 6,
      "outputs": [
        {
          "output_type": "execute_result",
          "data": {
            "text/plain": [
              "2"
            ]
          },
          "metadata": {
            "tags": []
          },
          "execution_count": 6
        }
      ]
    },
    {
      "cell_type": "code",
      "metadata": {
        "colab": {
          "base_uri": "https://localhost:8080/"
        },
        "id": "z6EifZoXMNmI",
        "outputId": "eab2d744-005f-42bb-edd6-64809bb61126"
      },
      "source": [
        "a.flatten()"
      ],
      "execution_count": 7,
      "outputs": [
        {
          "output_type": "execute_result",
          "data": {
            "text/plain": [
              "array([1, 2, 3, 4, 5, 4, 5, 6, 7, 8])"
            ]
          },
          "metadata": {
            "tags": []
          },
          "execution_count": 7
        }
      ]
    },
    {
      "cell_type": "code",
      "metadata": {
        "colab": {
          "base_uri": "https://localhost:8080/"
        },
        "id": "Lb6vj83cMRwW",
        "outputId": "5b0ad458-cfcc-42ac-c398-8384a8cffbeb"
      },
      "source": [
        "np.ndarray.flatten(a)"
      ],
      "execution_count": 8,
      "outputs": [
        {
          "output_type": "execute_result",
          "data": {
            "text/plain": [
              "array([1, 2, 3, 4, 5, 4, 5, 6, 7, 8])"
            ]
          },
          "metadata": {
            "tags": []
          },
          "execution_count": 8
        }
      ]
    },
    {
      "cell_type": "code",
      "metadata": {
        "id": "XDx_3wdmMTBk"
      },
      "source": [
        "import os\n",
        "import matplotlib.pyplot as plt\n",
        "import numpy as np\n",
        "from skimage.io import imread\n",
        "from skimage.transform import resize\n",
        "\n",
        "target = []\n",
        "images = []\n",
        "flat_data = []\n",
        "\n",
        "DATADIR = '/content/images'\n",
        "CATEGORIES=['sport cricket bat','apple fruit','sunflower']\n",
        "\n",
        "for category in CATEGORIES:\n",
        "  class_num = CATEGORIES.index (category)\n",
        "  path = os.path.join(DATADIR,category)\n",
        "  for img in os.listdir(path):\n",
        "   img_array = imread(os.path.join(path,img))\n",
        "   #print(img_array.shape)\n",
        "   #plt.imshow(img_array)\n",
        "   img_resized = resize(img_array,(150,150,3))\n",
        "   flat_data.append(img_resized.flatten())\n",
        "   images.append(img_resized)\n",
        "   target.append(class_num)\n",
        "\n",
        "flat_data = np.array(flat_data)\n",
        "target = np.array(target)\n",
        "images = np.array(images)"
      ],
      "execution_count": 9,
      "outputs": []
    },
    {
      "cell_type": "code",
      "metadata": {
        "colab": {
          "base_uri": "https://localhost:8080/"
        },
        "id": "fb6mbtaaM80T",
        "outputId": "c9591986-0c76-4bba-c05e-1bbfe16d7b1c"
      },
      "source": [
        "flat_data[0]"
      ],
      "execution_count": 29,
      "outputs": [
        {
          "output_type": "execute_result",
          "data": {
            "text/plain": [
              "array([0.99607843, 0.99607843, 0.99607843, ..., 0.99607843, 0.99607843,\n",
              "       0.99607843])"
            ]
          },
          "metadata": {
            "tags": []
          },
          "execution_count": 29
        }
      ]
    },
    {
      "cell_type": "code",
      "metadata": {
        "colab": {
          "base_uri": "https://localhost:8080/"
        },
        "id": "ZRw-1j4kNA-m",
        "outputId": "b80ab670-dbb7-47a2-f1a3-e26a7af527a7"
      },
      "source": [
        "len(flat_data[0])"
      ],
      "execution_count": 11,
      "outputs": [
        {
          "output_type": "execute_result",
          "data": {
            "text/plain": [
              "67500"
            ]
          },
          "metadata": {
            "tags": []
          },
          "execution_count": 11
        }
      ]
    },
    {
      "cell_type": "code",
      "metadata": {
        "colab": {
          "base_uri": "https://localhost:8080/"
        },
        "id": "iUaL3fwJNDVY",
        "outputId": "94f3841e-a1e9-4387-d238-038f2c9f9ccf"
      },
      "source": [
        "150*150*3"
      ],
      "execution_count": 12,
      "outputs": [
        {
          "output_type": "execute_result",
          "data": {
            "text/plain": [
              "67500"
            ]
          },
          "metadata": {
            "tags": []
          },
          "execution_count": 12
        }
      ]
    },
    {
      "cell_type": "code",
      "metadata": {
        "colab": {
          "base_uri": "https://localhost:8080/"
        },
        "id": "4qbeQWnUNG4K",
        "outputId": "82b76c68-2951-4259-df49-a11f6dbd9b52"
      },
      "source": [
        "target"
      ],
      "execution_count": 13,
      "outputs": [
        {
          "output_type": "execute_result",
          "data": {
            "text/plain": [
              "array([0, 0, 0, 0, 0, 0, 0, 0, 0, 0, 0, 0, 0, 0, 0, 0, 0, 0, 0, 0, 0, 0,\n",
              "       0, 0, 0, 0, 0, 0, 0, 0, 1, 1, 1, 1, 1, 1, 1, 1, 1, 1, 1, 1, 1, 1,\n",
              "       1, 1, 1, 1, 1, 1, 1, 1, 1, 1, 1, 1, 1, 1, 1, 1, 2, 2, 2, 2, 2, 2,\n",
              "       2, 2, 2, 2, 2, 2, 2, 2, 2, 2, 2, 2, 2, 2, 2, 2, 2, 2, 2, 2, 2, 2,\n",
              "       2, 2])"
            ]
          },
          "metadata": {
            "tags": []
          },
          "execution_count": 13
        }
      ]
    },
    {
      "cell_type": "code",
      "metadata": {
        "colab": {
          "base_uri": "https://localhost:8080/",
          "height": 282
        },
        "id": "N_A3jP7eNGye",
        "outputId": "ccd52f4d-8bc1-4569-bc18-bb65f333ff9e"
      },
      "source": [
        "unique,count = np.unique(target,return_counts=True)\n",
        "plt.bar(CATEGORIES,count)"
      ],
      "execution_count": 14,
      "outputs": [
        {
          "output_type": "execute_result",
          "data": {
            "text/plain": [
              "<BarContainer object of 3 artists>"
            ]
          },
          "metadata": {
            "tags": []
          },
          "execution_count": 14
        },
        {
          "output_type": "display_data",
          "data": {
            "image/png": "[encoded data removed]",
            "text/plain": [
              "<Figure size 432x288 with 1 Axes>"
            ]
          },
          "metadata": {
            "tags": [],
            "needs_background": "light"
          }
        }
      ]
    },
    {
      "cell_type": "code",
      "metadata": {
        "id": "T5Eqm3gaNMKT"
      },
      "source": [
        "from sklearn.model_selection import train_test_split\n",
        "x_train,x_test,y_train,y_test = train_test_split(flat_data,target,\n",
        "                                                 test_size=0.3,random_state=109)"
      ],
      "execution_count": 15,
      "outputs": []
    },
    {
      "cell_type": "code",
      "metadata": {
        "colab": {
          "base_uri": "https://localhost:8080/"
        },
        "id": "WMHlFR5lNL_V",
        "outputId": "adf076d0-31cc-4020-e727-7598d73f667c"
      },
      "source": [
        "from sklearn.model_selection import GridSearchCV\n",
        "from sklearn import svm\n",
        "param_grid = [\n",
        "              {'C':[1,10,100,1000],'kernel':['linear']},\n",
        "              {'C':[1,10,100,1000],'gamma':[0.001,0.0001],'kernel':['rbf'] }\n",
        "]\n",
        "\n",
        "svc = svm.SVC(probability=True)\n",
        "clf = GridSearchCV(svc,param_grid)\n",
        "clf.fit(x_train,y_train)"
      ],
      "execution_count": 16,
      "outputs": [
        {
          "output_type": "execute_result",
          "data": {
            "text/plain": [
              "GridSearchCV(cv=None, error_score=nan,\n",
              "             estimator=SVC(C=1.0, break_ties=False, cache_size=200,\n",
              "                           class_weight=None, coef0=0.0,\n",
              "                           decision_function_shape='ovr', degree=3,\n",
              "                           gamma='scale', kernel='rbf', max_iter=-1,\n",
              "                           probability=True, random_state=None, shrinking=True,\n",
              "                           tol=0.001, verbose=False),\n",
              "             iid='deprecated', n_jobs=None,\n",
              "             param_grid=[{'C': [1, 10, 100, 1000], 'kernel': ['linear']},\n",
              "                         {'C': [1, 10, 100, 1000], 'gamma': [0.001, 0.0001],\n",
              "                          'kernel': ['rbf']}],\n",
              "             pre_dispatch='2*n_jobs', refit=True, return_train_score=False,\n",
              "             scoring=None, verbose=0)"
            ]
          },
          "metadata": {
            "tags": []
          },
          "execution_count": 16
        }
      ]
    },
    {
      "cell_type": "code",
      "metadata": {
        "colab": {
          "base_uri": "https://localhost:8080/"
        },
        "id": "k4yIal7aNL1-",
        "outputId": "b0e2e482-96fc-42f9-d876-3182efb2ff61"
      },
      "source": [
        "y_pred = clf.predict(x_test)\n",
        "y_pred"
      ],
      "execution_count": 17,
      "outputs": [
        {
          "output_type": "execute_result",
          "data": {
            "text/plain": [
              "array([2, 0, 2, 2, 2, 1, 0, 1, 1, 0, 1, 0, 1, 2, 2, 2, 2, 2, 0, 2, 2, 2,\n",
              "       2, 0, 0, 0, 1])"
            ]
          },
          "metadata": {
            "tags": []
          },
          "execution_count": 17
        }
      ]
    },
    {
      "cell_type": "code",
      "metadata": {
        "colab": {
          "base_uri": "https://localhost:8080/"
        },
        "id": "1DuFvgv1NLq7",
        "outputId": "70de8754-6682-4e68-b8ea-766163173be7"
      },
      "source": [
        "y_test"
      ],
      "execution_count": 18,
      "outputs": [
        {
          "output_type": "execute_result",
          "data": {
            "text/plain": [
              "array([1, 0, 1, 2, 2, 1, 0, 1, 1, 0, 1, 0, 1, 2, 2, 1, 2, 1, 0, 1, 2, 2,\n",
              "       2, 0, 0, 0, 1])"
            ]
          },
          "metadata": {
            "tags": []
          },
          "execution_count": 18
        }
      ]
    },
    {
      "cell_type": "code",
      "metadata": {
        "id": "WwZrki03NSnE"
      },
      "source": [
        "from sklearn.metrics import accuracy_score,confusion_matrix"
      ],
      "execution_count": 19,
      "outputs": []
    },
    {
      "cell_type": "code",
      "metadata": {
        "colab": {
          "base_uri": "https://localhost:8080/"
        },
        "id": "ixZ8D7AaNSfK",
        "outputId": "2138e619-68b8-40f4-8067-09fa3383c46d"
      },
      "source": [
        "accuracy_score(y_pred,y_test)"
      ],
      "execution_count": 20,
      "outputs": [
        {
          "output_type": "execute_result",
          "data": {
            "text/plain": [
              "0.8148148148148148"
            ]
          },
          "metadata": {
            "tags": []
          },
          "execution_count": 20
        }
      ]
    },
    {
      "cell_type": "code",
      "metadata": {
        "colab": {
          "base_uri": "https://localhost:8080/"
        },
        "id": "sm8BUJGjNSX7",
        "outputId": "9f86f963-457f-4a69-80d8-c7e46d65ec5b"
      },
      "source": [
        "confusion_matrix(y_pred,y_test)"
      ],
      "execution_count": 21,
      "outputs": [
        {
          "output_type": "execute_result",
          "data": {
            "text/plain": [
              "array([[8, 0, 0],\n",
              "       [0, 6, 0],\n",
              "       [0, 5, 8]])"
            ]
          },
          "metadata": {
            "tags": []
          },
          "execution_count": 21
        }
      ]
    },
    {
      "cell_type": "code",
      "metadata": {
        "id": "RbQpZOsvNSMp"
      },
      "source": [
        "import pickle\n",
        "pickle.dump(clf,open('img_model.p','wb'))"
      ],
      "execution_count": 22,
      "outputs": []
    },
    {
      "cell_type": "code",
      "metadata": {
        "id": "un55hh1tN2gm"
      },
      "source": [
        "model = pickle.load(open('img_model.p','rb'))"
      ],
      "execution_count": 23,
      "outputs": []
    },
    {
      "cell_type": "code",
      "metadata": {
        "id": "Wof76KD3N2bT",
        "colab": {
          "base_uri": "https://localhost:8080/",
          "height": 319
        },
        "outputId": "4c0e3434-3efb-465e-e1cf-b49aa6854d69"
      },
      "source": [
        "flat_data = []\n",
        "url = input('Enter your URL')\n",
        "img = imread(url)\n",
        "img_resized = resize(img,(150,150,3))\n",
        "flat_data.append(img_resized.flatten())\n",
        "flat_data = np.array(flat_data)\n",
        "print(img.shape)\n",
        "plt.imshow(img_resized)\n",
        "y_out = model.predict(flat_data)\n",
        "y_out = CATEGORIES[y_out[0]]\n",
        "print(f' PREDICTED OUTPUT: {y_out}')"
      ],
      "execution_count": 27,
      "outputs": [
        {
          "output_type": "stream",
          "text": [
            "Enter your URLhttps://5.imimg.com/data5/LB/NG/VJ/SELLER-8531375/36-500x500.JPG\n",
            "(500, 357, 3)\n",
            " PREDICTED OUTPUT: sunflower\n"
          ],
          "name": "stdout"
        },
        {
          "output_type": "display_data",
          "data": {
            "image/png": "[encoded data removed]",
            "text/plain": [
              "<Figure size 432x288 with 1 Axes>"
            ]
          },
          "metadata": {
            "tags": [],
            "needs_background": "light"
          }
        }
      ]
    },
    {
      "cell_type": "code",
      "metadata": {
        "colab": {
          "base_uri": "https://localhost:8080/",
          "height": 1000
        },
        "id": "8mtbViNFVmQ1",
        "outputId": "262ee5a2-308b-45f6-d7ec-ef95a6c64efb"
      },
      "source": [
        "!pip install streamlit\n",
        "\n",
        "!pip install pyngrok\n",
        "from pyngrok import ngrok\n"
      ],
      "execution_count": 28,
      "outputs": [
        {
          "output_type": "stream",
          "text": [
            "Collecting streamlit\n",
            "\u001b[?25l  Downloading https://files.pythonhosted.org/packages/d9/99/a8913c21bd07a14f72658a01784414ffecb380ddd0f9a127257314fea697/streamlit-0.80.0-py2.py3-none-any.whl (8.2MB)\n",
            "\u001b[K     |████████████████████████████████| 8.2MB 7.2MB/s \n",
            "\u001b[?25hCollecting base58\n",
            "  Downloading https://files.pythonhosted.org/packages/b8/a1/d9f565e9910c09fd325dc638765e8843a19fa696275c16cc08cf3b0a3c25/base58-2.1.0-py3-none-any.whl\n",
            "Requirement already satisfied: pillow>=6.2.0 in /usr/local/lib/python3.7/dist-packages (from streamlit) (7.1.2)\n",
            "Requirement already satisfied: packaging in /usr/local/lib/python3.7/dist-packages (from streamlit) (20.9)\n",
            "Requirement already satisfied: click>=7.0 in /usr/local/lib/python3.7/dist-packages (from streamlit) (7.1.2)\n",
            "Requirement already satisfied: cachetools>=4.0 in /usr/local/lib/python3.7/dist-packages (from streamlit) (4.2.1)\n",
            "Requirement already satisfied: altair>=3.2.0 in /usr/local/lib/python3.7/dist-packages (from streamlit) (4.1.0)\n",
            "Collecting pydeck>=0.1.dev5\n",
            "\u001b[?25l  Downloading https://files.pythonhosted.org/packages/d6/bc/f0e44828e4290367c869591d50d3671a4d0ee94926da6cb734b7b200308c/pydeck-0.6.2-py2.py3-none-any.whl (4.2MB)\n",
            "\u001b[K     |████████████████████████████████| 4.2MB 41.1MB/s \n",
            "\u001b[?25hRequirement already satisfied: tzlocal in /usr/local/lib/python3.7/dist-packages (from streamlit) (1.5.1)\n",
            "Requirement already satisfied: pandas>=0.21.0 in /usr/local/lib/python3.7/dist-packages (from streamlit) (1.1.5)\n",
            "Requirement already satisfied: astor in /usr/local/lib/python3.7/dist-packages (from streamlit) (0.8.1)\n",
            "Collecting validators\n",
            "  Downloading https://files.pythonhosted.org/packages/db/2f/7fed3ee94ad665ad2c1de87f858f10a7785251ff75b4fd47987888d07ef1/validators-0.18.2-py3-none-any.whl\n",
            "Requirement already satisfied: requests in /usr/local/lib/python3.7/dist-packages (from streamlit) (2.23.0)\n",
            "Requirement already satisfied: protobuf!=3.11,>=3.6.0 in /usr/local/lib/python3.7/dist-packages (from streamlit) (3.12.4)\n",
            "Requirement already satisfied: pyarrow; python_version < \"3.9\" in /usr/local/lib/python3.7/dist-packages (from streamlit) (3.0.0)\n",
            "Collecting gitpython\n",
            "\u001b[?25l  Downloading https://files.pythonhosted.org/packages/a6/99/98019716955ba243657daedd1de8f3a88ca1f5b75057c38e959db22fb87b/GitPython-3.1.14-py3-none-any.whl (159kB)\n",
            "\u001b[K     |████████████████████████████████| 163kB 49.1MB/s \n",
            "\u001b[?25hRequirement already satisfied: tornado>=5.0 in /usr/local/lib/python3.7/dist-packages (from streamlit) (5.1.1)\n",
            "Requirement already satisfied: numpy in /usr/local/lib/python3.7/dist-packages (from streamlit) (1.19.5)\n",
            "Collecting blinker\n",
            "\u001b[?25l  Downloading https://files.pythonhosted.org/packages/1b/51/e2a9f3b757eb802f61dc1f2b09c8c99f6eb01cf06416c0671253536517b6/blinker-1.4.tar.gz (111kB)\n",
            "\u001b[K     |████████████████████████████████| 112kB 32.9MB/s \n",
            "\u001b[?25hRequirement already satisfied: python-dateutil in /usr/local/lib/python3.7/dist-packages (from streamlit) (2.8.1)\n",
            "Requirement already satisfied: toml in /usr/local/lib/python3.7/dist-packages (from streamlit) (0.10.2)\n",
            "Collecting watchdog; platform_system != \"Darwin\"\n",
            "\u001b[?25l  Downloading https://files.pythonhosted.org/packages/d2/b2/b4ebe23174fd00ec94ac3f58ebf85f1090c49858feab1ca62ed7ea4d2f2f/watchdog-2.0.3-py3-none-manylinux2014_x86_64.whl (74kB)\n",
            "\u001b[K     |████████████████████████████████| 81kB 6.9MB/s \n",
            "\u001b[?25hRequirement already satisfied: pyparsing>=2.0.2 in /usr/local/lib/python3.7/dist-packages (from packaging->streamlit) (2.4.7)\n",
            "Requirement already satisfied: jsonschema in /usr/local/lib/python3.7/dist-packages (from altair>=3.2.0->streamlit) (2.6.0)\n",
            "Requirement already satisfied: entrypoints in /usr/local/lib/python3.7/dist-packages (from altair>=3.2.0->streamlit) (0.3)\n",
            "Requirement already satisfied: toolz in /usr/local/lib/python3.7/dist-packages (from altair>=3.2.0->streamlit) (0.11.1)\n",
            "Requirement already satisfied: jinja2 in /usr/local/lib/python3.7/dist-packages (from altair>=3.2.0->streamlit) (2.11.3)\n",
            "Requirement already satisfied: traitlets>=4.3.2 in /usr/local/lib/python3.7/dist-packages (from pydeck>=0.1.dev5->streamlit) (5.0.5)\n",
            "Collecting ipykernel>=5.1.2; python_version >= \"3.4\"\n",
            "\u001b[?25l  Downloading https://files.pythonhosted.org/packages/3a/7d/9f8ac1b1b76f2f1538b5650f0b5636bae082724b1e06939a3a9d38e1380e/ipykernel-5.5.3-py3-none-any.whl (120kB)\n",
            "\u001b[K     |████████████████████████████████| 122kB 59.7MB/s \n",
            "\u001b[?25hRequirement already satisfied: ipywidgets>=7.0.0 in /usr/local/lib/python3.7/dist-packages (from pydeck>=0.1.dev5->streamlit) (7.6.3)\n",
            "Requirement already satisfied: pytz in /usr/local/lib/python3.7/dist-packages (from tzlocal->streamlit) (2018.9)\n",
            "Requirement already satisfied: decorator>=3.4.0 in /usr/local/lib/python3.7/dist-packages (from validators->streamlit) (4.4.2)\n",
            "Requirement already satisfied: six>=1.4.0 in /usr/local/lib/python3.7/dist-packages (from validators->streamlit) (1.15.0)\n",
            "Requirement already satisfied: urllib3!=1.25.0,!=1.25.1,<1.26,>=1.21.1 in /usr/local/lib/python3.7/dist-packages (from requests->streamlit) (1.24.3)\n",
            "Requirement already satisfied: idna<3,>=2.5 in /usr/local/lib/python3.7/dist-packages (from requests->streamlit) (2.10)\n",
            "Requirement already satisfied: certifi>=2017.4.17 in /usr/local/lib/python3.7/dist-packages (from requests->streamlit) (2020.12.5)\n",
            "Requirement already satisfied: chardet<4,>=3.0.2 in /usr/local/lib/python3.7/dist-packages (from requests->streamlit) (3.0.4)\n",
            "Requirement already satisfied: setuptools in /usr/local/lib/python3.7/dist-packages (from protobuf!=3.11,>=3.6.0->streamlit) (56.0.0)\n",
            "Collecting gitdb<5,>=4.0.1\n",
            "\u001b[?25l  Downloading https://files.pythonhosted.org/packages/ea/e8/f414d1a4f0bbc668ed441f74f44c116d9816833a48bf81d22b697090dba8/gitdb-4.0.7-py3-none-any.whl (63kB)\n",
            "\u001b[K     |████████████████████████████████| 71kB 6.3MB/s \n",
            "\u001b[?25hRequirement already satisfied: MarkupSafe>=0.23 in /usr/local/lib/python3.7/dist-packages (from jinja2->altair>=3.2.0->streamlit) (1.1.1)\n",
            "Requirement already satisfied: ipython-genutils in /usr/local/lib/python3.7/dist-packages (from traitlets>=4.3.2->pydeck>=0.1.dev5->streamlit) (0.2.0)\n",
            "Requirement already satisfied: jupyter-client in /usr/local/lib/python3.7/dist-packages (from ipykernel>=5.1.2; python_version >= \"3.4\"->pydeck>=0.1.dev5->streamlit) (5.3.5)\n",
            "Requirement already satisfied: ipython>=5.0.0 in /usr/local/lib/python3.7/dist-packages (from ipykernel>=5.1.2; python_version >= \"3.4\"->pydeck>=0.1.dev5->streamlit) (5.5.0)\n",
            "Requirement already satisfied: jupyterlab-widgets>=1.0.0; python_version >= \"3.6\" in /usr/local/lib/python3.7/dist-packages (from ipywidgets>=7.0.0->pydeck>=0.1.dev5->streamlit) (1.0.0)\n",
            "Requirement already satisfied: nbformat>=4.2.0 in /usr/local/lib/python3.7/dist-packages (from ipywidgets>=7.0.0->pydeck>=0.1.dev5->streamlit) (5.1.3)\n",
            "Requirement already satisfied: widgetsnbextension~=3.5.0 in /usr/local/lib/python3.7/dist-packages (from ipywidgets>=7.0.0->pydeck>=0.1.dev5->streamlit) (3.5.1)\n",
            "Collecting smmap<5,>=3.0.1\n",
            "  Downloading https://files.pythonhosted.org/packages/68/ee/d540eb5e5996eb81c26ceffac6ee49041d473bc5125f2aa995cf51ec1cf1/smmap-4.0.0-py2.py3-none-any.whl\n",
            "Requirement already satisfied: jupyter-core>=4.6.0 in /usr/local/lib/python3.7/dist-packages (from jupyter-client->ipykernel>=5.1.2; python_version >= \"3.4\"->pydeck>=0.1.dev5->streamlit) (4.7.1)\n",
            "Requirement already satisfied: pyzmq>=13 in /usr/local/lib/python3.7/dist-packages (from jupyter-client->ipykernel>=5.1.2; python_version >= \"3.4\"->pydeck>=0.1.dev5->streamlit) (22.0.3)\n",
            "Requirement already satisfied: pygments in /usr/local/lib/python3.7/dist-packages (from ipython>=5.0.0->ipykernel>=5.1.2; python_version >= \"3.4\"->pydeck>=0.1.dev5->streamlit) (2.6.1)\n",
            "Requirement already satisfied: pexpect; sys_platform != \"win32\" in /usr/local/lib/python3.7/dist-packages (from ipython>=5.0.0->ipykernel>=5.1.2; python_version >= \"3.4\"->pydeck>=0.1.dev5->streamlit) (4.8.0)\n",
            "Requirement already satisfied: prompt-toolkit<2.0.0,>=1.0.4 in /usr/local/lib/python3.7/dist-packages (from ipython>=5.0.0->ipykernel>=5.1.2; python_version >= \"3.4\"->pydeck>=0.1.dev5->streamlit) (1.0.18)\n",
            "Requirement already satisfied: simplegeneric>0.8 in /usr/local/lib/python3.7/dist-packages (from ipython>=5.0.0->ipykernel>=5.1.2; python_version >= \"3.4\"->pydeck>=0.1.dev5->streamlit) (0.8.1)\n",
            "Requirement already satisfied: pickleshare in /usr/local/lib/python3.7/dist-packages (from ipython>=5.0.0->ipykernel>=5.1.2; python_version >= \"3.4\"->pydeck>=0.1.dev5->streamlit) (0.7.5)\n",
            "Requirement already satisfied: notebook>=4.4.1 in /usr/local/lib/python3.7/dist-packages (from widgetsnbextension~=3.5.0->ipywidgets>=7.0.0->pydeck>=0.1.dev5->streamlit) (5.3.1)\n",
            "Requirement already satisfied: ptyprocess>=0.5 in /usr/local/lib/python3.7/dist-packages (from pexpect; sys_platform != \"win32\"->ipython>=5.0.0->ipykernel>=5.1.2; python_version >= \"3.4\"->pydeck>=0.1.dev5->streamlit) (0.7.0)\n",
            "Requirement already satisfied: wcwidth in /usr/local/lib/python3.7/dist-packages (from prompt-toolkit<2.0.0,>=1.0.4->ipython>=5.0.0->ipykernel>=5.1.2; python_version >= \"3.4\"->pydeck>=0.1.dev5->streamlit) (0.2.5)\n",
            "Requirement already satisfied: terminado>=0.8.1 in /usr/local/lib/python3.7/dist-packages (from notebook>=4.4.1->widgetsnbextension~=3.5.0->ipywidgets>=7.0.0->pydeck>=0.1.dev5->streamlit) (0.9.4)\n",
            "Requirement already satisfied: nbconvert in /usr/local/lib/python3.7/dist-packages (from notebook>=4.4.1->widgetsnbextension~=3.5.0->ipywidgets>=7.0.0->pydeck>=0.1.dev5->streamlit) (5.6.1)\n",
            "Requirement already satisfied: Send2Trash in /usr/local/lib/python3.7/dist-packages (from notebook>=4.4.1->widgetsnbextension~=3.5.0->ipywidgets>=7.0.0->pydeck>=0.1.dev5->streamlit) (1.5.0)\n",
            "Requirement already satisfied: pandocfilters>=1.4.1 in /usr/local/lib/python3.7/dist-packages (from nbconvert->notebook>=4.4.1->widgetsnbextension~=3.5.0->ipywidgets>=7.0.0->pydeck>=0.1.dev5->streamlit) (1.4.3)\n",
            "Requirement already satisfied: mistune<2,>=0.8.1 in /usr/local/lib/python3.7/dist-packages (from nbconvert->notebook>=4.4.1->widgetsnbextension~=3.5.0->ipywidgets>=7.0.0->pydeck>=0.1.dev5->streamlit) (0.8.4)\n",
            "Requirement already satisfied: defusedxml in /usr/local/lib/python3.7/dist-packages (from nbconvert->notebook>=4.4.1->widgetsnbextension~=3.5.0->ipywidgets>=7.0.0->pydeck>=0.1.dev5->streamlit) (0.7.1)\n",
            "Requirement already satisfied: bleach in /usr/local/lib/python3.7/dist-packages (from nbconvert->notebook>=4.4.1->widgetsnbextension~=3.5.0->ipywidgets>=7.0.0->pydeck>=0.1.dev5->streamlit) (3.3.0)\n",
            "Requirement already satisfied: testpath in /usr/local/lib/python3.7/dist-packages (from nbconvert->notebook>=4.4.1->widgetsnbextension~=3.5.0->ipywidgets>=7.0.0->pydeck>=0.1.dev5->streamlit) (0.4.4)\n",
            "Requirement already satisfied: webencodings in /usr/local/lib/python3.7/dist-packages (from bleach->nbconvert->notebook>=4.4.1->widgetsnbextension~=3.5.0->ipywidgets>=7.0.0->pydeck>=0.1.dev5->streamlit) (0.5.1)\n",
            "Building wheels for collected packages: blinker\n",
            "  Building wheel for blinker (setup.py) ... \u001b[?25l\u001b[?25hdone\n",
            "  Created wheel for blinker: filename=blinker-1.4-cp37-none-any.whl size=13448 sha256=0e1a6b8f779981087c1a014eeef93f1d7fa611ede026ff7d700b738ffb83430b\n",
            "  Stored in directory: /root/.cache/pip/wheels/92/a0/00/8690a57883956a301d91cf4ec999cc0b258b01e3f548f86e89\n",
            "Successfully built blinker\n",
            "\u001b[31mERROR: google-colab 1.0.0 has requirement ipykernel~=4.10, but you'll have ipykernel 5.5.3 which is incompatible.\u001b[0m\n",
            "Installing collected packages: base58, ipykernel, pydeck, validators, smmap, gitdb, gitpython, blinker, watchdog, streamlit\n",
            "  Found existing installation: ipykernel 4.10.1\n",
            "    Uninstalling ipykernel-4.10.1:\n",
            "      Successfully uninstalled ipykernel-4.10.1\n",
            "Successfully installed base58-2.1.0 blinker-1.4 gitdb-4.0.7 gitpython-3.1.14 ipykernel-5.5.3 pydeck-0.6.2 smmap-4.0.0 streamlit-0.80.0 validators-0.18.2 watchdog-2.0.3\n"
          ],
          "name": "stdout"
        },
        {
          "output_type": "display_data",
          "data": {
            "application/vnd.colab-display-data+json": {
              "pip_warning": {
                "packages": [
                  "ipykernel"
                ]
              }
            }
          },
          "metadata": {
            "tags": []
          }
        },
        {
          "output_type": "stream",
          "text": [
            "Collecting pyngrok\n",
            "\u001b[?25l  Downloading https://files.pythonhosted.org/packages/6b/4e/a2fe095bbe17cf26424c4abcd22a0490e22d01cc628f25af5e220ddbf6f0/pyngrok-5.0.5.tar.gz (745kB)\n",
            "\r\u001b[K     |▍                               | 10kB 15.2MB/s eta 0:00:01\r\u001b[K     |▉                               | 20kB 20.6MB/s eta 0:00:01\r\u001b[K     |█▎                              | 30kB 16.5MB/s eta 0:00:01\r\u001b[K     |█▊                              | 40kB 10.8MB/s eta 0:00:01\r\u001b[K     |██▏                             | 51kB 7.2MB/s eta 0:00:01\r\u001b[K     |██▋                             | 61kB 8.3MB/s eta 0:00:01\r\u001b[K     |███                             | 71kB 7.1MB/s eta 0:00:01\r\u001b[K     |███▌                            | 81kB 7.7MB/s eta 0:00:01\r\u001b[K     |████                            | 92kB 8.4MB/s eta 0:00:01\r\u001b[K     |████▍                           | 102kB 8.8MB/s eta 0:00:01\r\u001b[K     |████▉                           | 112kB 8.8MB/s eta 0:00:01\r\u001b[K     |█████▎                          | 122kB 8.8MB/s eta 0:00:01\r\u001b[K     |█████▊                          | 133kB 8.8MB/s eta 0:00:01\r\u001b[K     |██████▏                         | 143kB 8.8MB/s eta 0:00:01\r\u001b[K     |██████▋                         | 153kB 8.8MB/s eta 0:00:01\r\u001b[K     |███████                         | 163kB 8.8MB/s eta 0:00:01\r\u001b[K     |███████▌                        | 174kB 8.8MB/s eta 0:00:01\r\u001b[K     |████████                        | 184kB 8.8MB/s eta 0:00:01\r\u001b[K     |████████▍                       | 194kB 8.8MB/s eta 0:00:01\r\u001b[K     |████████▉                       | 204kB 8.8MB/s eta 0:00:01\r\u001b[K     |█████████▎                      | 215kB 8.8MB/s eta 0:00:01\r\u001b[K     |█████████▊                      | 225kB 8.8MB/s eta 0:00:01\r\u001b[K     |██████████▏                     | 235kB 8.8MB/s eta 0:00:01\r\u001b[K     |██████████▌                     | 245kB 8.8MB/s eta 0:00:01\r\u001b[K     |███████████                     | 256kB 8.8MB/s eta 0:00:01\r\u001b[K     |███████████▍                    | 266kB 8.8MB/s eta 0:00:01\r\u001b[K     |███████████▉                    | 276kB 8.8MB/s eta 0:00:01\r\u001b[K     |████████████▎                   | 286kB 8.8MB/s eta 0:00:01\r\u001b[K     |████████████▊                   | 296kB 8.8MB/s eta 0:00:01\r\u001b[K     |█████████████▏                  | 307kB 8.8MB/s eta 0:00:01\r\u001b[K     |█████████████▋                  | 317kB 8.8MB/s eta 0:00:01\r\u001b[K     |██████████████                  | 327kB 8.8MB/s eta 0:00:01\r\u001b[K     |██████████████▌                 | 337kB 8.8MB/s eta 0:00:01\r\u001b[K     |███████████████                 | 348kB 8.8MB/s eta 0:00:01\r\u001b[K     |███████████████▍                | 358kB 8.8MB/s eta 0:00:01\r\u001b[K     |███████████████▉                | 368kB 8.8MB/s eta 0:00:01\r\u001b[K     |████████████████▎               | 378kB 8.8MB/s eta 0:00:01\r\u001b[K     |████████████████▊               | 389kB 8.8MB/s eta 0:00:01\r\u001b[K     |█████████████████▏              | 399kB 8.8MB/s eta 0:00:01\r\u001b[K     |█████████████████▋              | 409kB 8.8MB/s eta 0:00:01\r\u001b[K     |██████████████████              | 419kB 8.8MB/s eta 0:00:01\r\u001b[K     |██████████████████▌             | 430kB 8.8MB/s eta 0:00:01\r\u001b[K     |███████████████████             | 440kB 8.8MB/s eta 0:00:01\r\u001b[K     |███████████████████▍            | 450kB 8.8MB/s eta 0:00:01\r\u001b[K     |███████████████████▉            | 460kB 8.8MB/s eta 0:00:01\r\u001b[K     |████████████████████▎           | 471kB 8.8MB/s eta 0:00:01\r\u001b[K     |████████████████████▊           | 481kB 8.8MB/s eta 0:00:01\r\u001b[K     |█████████████████████           | 491kB 8.8MB/s eta 0:00:01\r\u001b[K     |█████████████████████▌          | 501kB 8.8MB/s eta 0:00:01\r\u001b[K     |██████████████████████          | 512kB 8.8MB/s eta 0:00:01\r\u001b[K     |██████████████████████▍         | 522kB 8.8MB/s eta 0:00:01\r\u001b[K     |██████████████████████▉         | 532kB 8.8MB/s eta 0:00:01\r\u001b[K     |███████████████████████▎        | 542kB 8.8MB/s eta 0:00:01\r\u001b[K     |███████████████████████▊        | 552kB 8.8MB/s eta 0:00:01\r\u001b[K     |████████████████████████▏       | 563kB 8.8MB/s eta 0:00:01\r\u001b[K     |████████████████████████▋       | 573kB 8.8MB/s eta 0:00:01\r\u001b[K     |█████████████████████████       | 583kB 8.8MB/s eta 0:00:01\r\u001b[K     |█████████████████████████▌      | 593kB 8.8MB/s eta 0:00:01\r\u001b[K     |██████████████████████████      | 604kB 8.8MB/s eta 0:00:01\r\u001b[K     |██████████████████████████▍     | 614kB 8.8MB/s eta 0:00:01\r\u001b[K     |██████████████████████████▉     | 624kB 8.8MB/s eta 0:00:01\r\u001b[K     |███████████████████████████▎    | 634kB 8.8MB/s eta 0:00:01\r\u001b[K     |███████████████████████████▊    | 645kB 8.8MB/s eta 0:00:01\r\u001b[K     |████████████████████████████▏   | 655kB 8.8MB/s eta 0:00:01\r\u001b[K     |████████████████████████████▋   | 665kB 8.8MB/s eta 0:00:01\r\u001b[K     |█████████████████████████████   | 675kB 8.8MB/s eta 0:00:01\r\u001b[K     |█████████████████████████████▌  | 686kB 8.8MB/s eta 0:00:01\r\u001b[K     |██████████████████████████████  | 696kB 8.8MB/s eta 0:00:01\r\u001b[K     |██████████████████████████████▍ | 706kB 8.8MB/s eta 0:00:01\r\u001b[K     |██████████████████████████████▉ | 716kB 8.8MB/s eta 0:00:01\r\u001b[K     |███████████████████████████████▏| 727kB 8.8MB/s eta 0:00:01\r\u001b[K     |███████████████████████████████▋| 737kB 8.8MB/s eta 0:00:01\r\u001b[K     |████████████████████████████████| 747kB 8.8MB/s \n",
            "\u001b[?25hRequirement already satisfied: PyYAML in /usr/local/lib/python3.7/dist-packages (from pyngrok) (3.13)\n",
            "Building wheels for collected packages: pyngrok\n",
            "  Building wheel for pyngrok (setup.py) ... \u001b[?25l\u001b[?25hdone\n",
            "  Created wheel for pyngrok: filename=pyngrok-5.0.5-cp37-none-any.whl size=19246 sha256=74f605badd5e27137036dbee5a0236d57f3117a67ea73fda194ee976c230501e\n",
            "  Stored in directory: /root/.cache/pip/wheels/0c/13/64/5ebbcc22eaf53fdf5766b397c1fb17c83f5775fdccf0ea1b88\n",
            "Successfully built pyngrok\n",
            "Installing collected packages: pyngrok\n",
            "Successfully installed pyngrok-5.0.5\n"
          ],
          "name": "stdout"
        }
      ]
    },
    {
      "cell_type": "code",
      "metadata": {
        "colab": {
          "base_uri": "https://localhost:8080/"
        },
        "id": "XR8vl0ghN2V4",
        "outputId": "120d0c1e-47c3-492d-924f-996c79cd639f"
      },
      "source": [
        "%%writefile app.py\n",
        "import streamlit as st\n",
        "import numpy as np\n",
        "from skimage.io import imread\n",
        "from skimage.transform import resize\n",
        "import pickle\n",
        "from PIL import image \n",
        "st.title('Image Classifier')\n",
        "st.text('upload the image')\n",
        "model = pickle.load(open('img_model.p','rb'))\n",
        "\n",
        "uploaded_file = st.file_uploader(\"Choose an image...\", type=\"jpg\" )\n",
        "if uploaded_file is not None:\n",
        "  img = Image.open(upoladed_file)\n",
        "  st.image(img,caption='Uploaded Image')\n",
        "\n",
        "  if st.button('PREDICT'):\n",
        "    CATEGORIES=['sport cricket bat','apple fruit','sunflower']\n",
        "    st.write('Result...')\n",
        "    flat_data=[]\n",
        "    img = np.array(img)\n",
        "    img_resized = resize(img,(150,150,3))\n",
        "    flat_data.append(img_resized.flatten())\n",
        "    flat_data = np.array(flat_data)\n",
        "    y_out = model.predict(flat_data)\n",
        "    y_out = CATEGORIES[y_out[0]]\n",
        "    st.title(f' PREDICTED OUTPUT: {y_out}')\n",
        "    q = model.predict_proba(flat_data)\n",
        "    for index,  item in enumerate(CATEGORIES):\n",
        "      st.write('{item} : {q[0][index]*100}%')\n",
        " "
      ],
      "execution_count": 31,
      "outputs": [
        {
          "output_type": "stream",
          "text": [
            "Writing app.py\n"
          ],
          "name": "stdout"
        }
      ]
    },
    {
      "cell_type": "code",
      "metadata": {
        "colab": {
          "base_uri": "https://localhost:8080/"
        },
        "id": "Q6wKawQvN2Px",
        "outputId": "067622d4-ceef-4933-d33c-2167134e8c4f"
      },
      "source": [
        "!nohup streamlit run app.py &\n",
        "\n",
        "url = ngrok.connect(port='8501')\n",
        "url"
      ],
      "execution_count": 30,
      "outputs": [
        {
          "output_type": "stream",
          "text": [
            "nohup: appending output to 'nohup.out'\n"
          ],
          "name": "stdout"
        },
        {
          "output_type": "execute_result",
          "data": {
            "text/plain": [
              "<NgrokTunnel: \"http://f92b471d38b2.ngrok.io\" -> \"http://localhost:80\">"
            ]
          },
          "metadata": {
            "tags": []
          },
          "execution_count": 30
        }
      ]
    },
    {
      "cell_type": "code",
      "metadata": {
        "id": "DL-tZPf1N2IS"
      },
      "source": [
        ""
      ],
      "execution_count": null,
      "outputs": []
    }
  ]
}