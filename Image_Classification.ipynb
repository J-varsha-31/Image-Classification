{
  "nbformat": 4,
  "nbformat_minor": 0,
  "metadata": {
    "colab": {
      "name": "Image Classification.ipynb",
      "provenance": [],
      "authorship_tag": "ABX9TyPK8CABTkzl84eaXnGzfqXE",
      "include_colab_link": true
    },
    "kernelspec": {
      "display_name": "Python 3",
      "name": "python3"
    },
    "language_info": {
      "name": "python"
    }
  },
  "cells": [
    {
      "cell_type": "markdown",
      "metadata": {
        "id": "view-in-github",
        "colab_type": "text"
      },
      "source": [
        "<a href=\"https://colab.research.google.com/github/J-varsha-31/Image-Classification/blob/main/Image_Classification.ipynb\" target=\"_parent\"><img src=\"https://colab.research.google.com/assets/colab-badge.svg\" alt=\"Open In Colab\"/></a>"
      ]
    },
    {
      "cell_type": "code",
      "metadata": {
        "id": "GTqE8SrgDCPu",
        "colab": {
          "base_uri": "https://localhost:8080/"
        },
        "outputId": "2c45f4bd-eed4-429e-ba7b-2be247c4271f"
      },
      "source": [
        "!pip install bing-image-downloader"
      ],
      "execution_count": 32,
      "outputs": [
        {
          "output_type": "stream",
          "text": [
            "Requirement already satisfied: bing-image-downloader in /usr/local/lib/python3.7/dist-packages (1.0.4)\n"
          ],
          "name": "stdout"
        }
      ]
    },
    {
      "cell_type": "code",
      "metadata": {
        "id": "4CKDCR5-DfOZ",
        "colab": {
          "base_uri": "https://localhost:8080/"
        },
        "outputId": "4a21ac30-d650-4a90-8669-e1555a09f048"
      },
      "source": [
        "!mkdir images"
      ],
      "execution_count": 33,
      "outputs": [
        {
          "output_type": "stream",
          "text": [
            "mkdir: cannot create directory ‘images’: File exists\n"
          ],
          "name": "stdout"
        }
      ]
    },
    {
      "cell_type": "code",
      "metadata": {
        "id": "WRYeTbnbD2H9",
        "colab": {
          "base_uri": "https://localhost:8080/"
        },
        "outputId": "56280d20-2a47-4d1f-f3bd-86c188e0e882"
      },
      "source": [
        "from bing_image_downloader import  downloader\n",
        "downloader.download(\"sport cricket bat\",limit=30,output_dir='images',adult_filter_off=True)"
      ],
      "execution_count": 34,
      "outputs": [
        {
          "output_type": "stream",
          "text": [
            "\n",
            "\n",
            "[!!]Indexing page: 1\n",
            "\n",
            "[%] Indexed 12 Images on Page 1.\n",
            "\n",
            "===============================================\n",
            "\n",
            "[%] Downloading Image #1 from https://pics.clipartpng.com/idownload-image.php?file=Cricket_Ball_PNG_Clip_Art-1356.png\n",
            "[Error]Invalid image, not saving https://pics.clipartpng.com/idownload-image.php?file=Cricket_Ball_PNG_Clip_Art-1356.png\n",
            "\n",
            "[!] Issue getting: https://pics.clipartpng.com/idownload-image.php?file=Cricket_Ball_PNG_Clip_Art-1356.png\n",
            "[!] Error:: No active exception to reraise\n",
            "[%] Downloading Image #1 from https://i.guim.co.uk/img/static/sys-images/Guardian/Pix/pictures/2013/7/18/1374114632479/Bat-streak-008.jpg?w=1200&amp;q=55&amp;auto=format&amp;usm=12&amp;fit=max&amp;s=b2f1e35f260045c7041660e623a5382c\n",
            "[!] Issue getting: https://i.guim.co.uk/img/static/sys-images/Guardian/Pix/pictures/2013/7/18/1374114632479/Bat-streak-008.jpg?w=1200&amp;q=55&amp;auto=format&amp;usm=12&amp;fit=max&amp;s=b2f1e35f260045c7041660e623a5382c\n",
            "[!] Error:: HTTP Error 401: Unauthorized - missing signature\n",
            "[%] Downloading Image #1 from https://i.kinja-img.com/gawker-media/image/upload/s---kHnmafD--/c_fill,fl_progressive,g_center,h_900,q_80,w_1600/vfnvwjmm9mhfpwgbwljw.jpg\n",
            "[%] File Downloaded !\n",
            "\n",
            "[%] Downloading Image #2 from https://static2.stuff.co.nz/1294803254/486/4534486.jpg\n",
            "[%] File Downloaded !\n",
            "\n",
            "[%] Downloading Image #3 from https://static.vecteezy.com/system/resources/previews/000/364/969/original/funky-cricket-logo-vector.jpg\n",
            "[%] File Downloaded !\n",
            "\n",
            "[%] Downloading Image #4 from https://cdn.images.express.co.uk/img/dynamic/172/750x445/1115762.jpg\n",
            "[%] File Downloaded !\n",
            "\n",
            "[%] Downloading Image #5 from https://cdn.images.express.co.uk/img/dynamic/68/590x/secondary/105723.jpg\n",
            "[%] File Downloaded !\n",
            "\n",
            "[%] Downloading Image #6 from http://www.famousquotes123.com/gifs/cat-images/cricket.jpg\n",
            "[%] File Downloaded !\n",
            "\n",
            "[%] Downloading Image #7 from http://www.onlinegameslist.org/wp-content/uploads/2019/04/little-singham.jpg\n",
            "[%] File Downloaded !\n",
            "\n",
            "[%] Downloading Image #8 from https://www.oldbookillustrations.com/wp-content/high-res/1891/university-course-4-1200.jpg\n",
            "[%] File Downloaded !\n",
            "\n",
            "[%] Downloading Image #9 from https://imagevars.gulfnews.com/2020/04/21/Bat-woman_1719ddb6873_medium.jpg\n",
            "[Error]Invalid image, not saving https://imagevars.gulfnews.com/2020/04/21/Bat-woman_1719ddb6873_medium.jpg\n",
            "\n",
            "[!] Issue getting: https://imagevars.gulfnews.com/2020/04/21/Bat-woman_1719ddb6873_medium.jpg\n",
            "[!] Error:: No active exception to reraise\n",
            "[%] Downloading Image #9 from https://static.independent.co.uk/s3fs-public/thumbnails/image/2016/08/24/11/o-batman-and-robin-facebook.jpg\n",
            "[%] File Downloaded !\n",
            "\n",
            "\n",
            "\n",
            "[!!]Indexing page: 2\n",
            "\n",
            "[%] Indexed 12 Images on Page 2.\n",
            "\n",
            "===============================================\n",
            "\n",
            "[%] Downloading Image #10 from https://pics.clipartpng.com/idownload-image.php?file=Cricket_Ball_PNG_Clip_Art-1356.png\n",
            "[Error]Invalid image, not saving https://pics.clipartpng.com/idownload-image.php?file=Cricket_Ball_PNG_Clip_Art-1356.png\n",
            "\n",
            "[!] Issue getting: https://pics.clipartpng.com/idownload-image.php?file=Cricket_Ball_PNG_Clip_Art-1356.png\n",
            "[!] Error:: No active exception to reraise\n",
            "[%] Downloading Image #10 from https://i.guim.co.uk/img/static/sys-images/Guardian/Pix/pictures/2013/7/18/1374114632479/Bat-streak-008.jpg?w=1200&amp;q=55&amp;auto=format&amp;usm=12&amp;fit=max&amp;s=b2f1e35f260045c7041660e623a5382c\n",
            "[!] Issue getting: https://i.guim.co.uk/img/static/sys-images/Guardian/Pix/pictures/2013/7/18/1374114632479/Bat-streak-008.jpg?w=1200&amp;q=55&amp;auto=format&amp;usm=12&amp;fit=max&amp;s=b2f1e35f260045c7041660e623a5382c\n",
            "[!] Error:: HTTP Error 401: Unauthorized - missing signature\n",
            "[%] Downloading Image #10 from https://i.kinja-img.com/gawker-media/image/upload/s---kHnmafD--/c_fill,fl_progressive,g_center,h_900,q_80,w_1600/vfnvwjmm9mhfpwgbwljw.jpg\n",
            "[%] File Downloaded !\n",
            "\n",
            "[%] Downloading Image #11 from https://static2.stuff.co.nz/1294803254/486/4534486.jpg\n",
            "[%] File Downloaded !\n",
            "\n",
            "[%] Downloading Image #12 from https://static.vecteezy.com/system/resources/previews/000/364/969/original/funky-cricket-logo-vector.jpg\n",
            "[%] File Downloaded !\n",
            "\n",
            "[%] Downloading Image #13 from https://cdn.images.express.co.uk/img/dynamic/172/750x445/1115762.jpg\n",
            "[%] File Downloaded !\n",
            "\n",
            "[%] Downloading Image #14 from https://cdn.images.express.co.uk/img/dynamic/68/590x/secondary/105723.jpg\n",
            "[%] File Downloaded !\n",
            "\n",
            "[%] Downloading Image #15 from http://www.famousquotes123.com/gifs/cat-images/cricket.jpg\n",
            "[%] File Downloaded !\n",
            "\n",
            "[%] Downloading Image #16 from http://www.onlinegameslist.org/wp-content/uploads/2019/04/little-singham.jpg\n",
            "[%] File Downloaded !\n",
            "\n",
            "[%] Downloading Image #17 from https://www.oldbookillustrations.com/wp-content/high-res/1891/university-course-4-1200.jpg\n",
            "[%] File Downloaded !\n",
            "\n",
            "[%] Downloading Image #18 from https://imagevars.gulfnews.com/2020/04/21/Bat-woman_1719ddb6873_medium.jpg\n",
            "[Error]Invalid image, not saving https://imagevars.gulfnews.com/2020/04/21/Bat-woman_1719ddb6873_medium.jpg\n",
            "\n",
            "[!] Issue getting: https://imagevars.gulfnews.com/2020/04/21/Bat-woman_1719ddb6873_medium.jpg\n",
            "[!] Error:: No active exception to reraise\n",
            "[%] Downloading Image #18 from https://static.independent.co.uk/s3fs-public/thumbnails/image/2016/08/24/11/o-batman-and-robin-facebook.jpg\n",
            "[%] File Downloaded !\n",
            "\n",
            "\n",
            "\n",
            "[!!]Indexing page: 3\n",
            "\n",
            "[%] Indexed 11 Images on Page 3.\n",
            "\n",
            "===============================================\n",
            "\n",
            "[%] Downloading Image #19 from http://images.unsplash.com/photo-1540747913346-19e32dc3e97e?ixlib=rb-1.2.1&amp;q=80&amp;fm=jpg&amp;crop=entropy&amp;cs=tinysrgb&amp;w=1080&amp;fit=max&amp;ixid=eyJhcHBfaWQiOjEyMDd9\n",
            "[%] File Downloaded !\n",
            "\n",
            "[%] Downloading Image #20 from http://www.simonmackney.com/blog/wp-content/uploads/2017/03/Cricket-3-copy.jpg\n",
            "[%] File Downloaded !\n",
            "\n",
            "[%] Downloading Image #21 from https://gcs.thesouthafrican.com/2017/08/yoda-bat11.jpg\n",
            "[%] File Downloaded !\n",
            "\n",
            "[%] Downloading Image #22 from https://secure.i.telegraph.co.uk/multimedia/archive/01437/08-cutting_1437790i.jpg\n",
            "[%] File Downloaded !\n",
            "\n",
            "[%] Downloading Image #23 from https://img.izismile.com/img/img2/20090707/cricket_00.jpg\n",
            "[%] File Downloaded !\n",
            "\n",
            "[%] Downloading Image #24 from https://www.newshub.co.nz/home/sport/2019/07/cricket-world-cup-2019-live-updates-world-cup-final-between-england-and-new-zealand/_jcr_content/par/video/image.dynimg.1280.q75.jpg/v1563092950118/GettyImages-1161798680-1120-cwcfinal.jpg\n",
            "[%] File Downloaded !\n",
            "\n",
            "[%] Downloading Image #25 from http://3.bp.blogspot.com/-YE9InsZS6hA/USY-LNWkIrI/AAAAAAAAAR4/Omr9Nv5_99k/s1600/history_of_cricket.jpg\n",
            "[%] File Downloaded !\n",
            "\n",
            "[%] Downloading Image #26 from https://static.vecteezy.com/system/resources/previews/000/494/637/original/criket-ball-vector-illustration.jpg\n",
            "[%] File Downloaded !\n",
            "\n",
            "[%] Downloading Image #27 from https://thumbs.dreamstime.com/z/young-buddhist-monks-playing-cricket-14936954.jpg\n",
            "[%] File Downloaded !\n",
            "\n",
            "[%] Downloading Image #28 from https://www.clker.com/cliparts/b/e/f/5/12550942411256961094Olympic_sports_Bowling_pictogram.svg.hi.png\n",
            "[%] File Downloaded !\n",
            "\n",
            "[%] Downloading Image #29 from https://www.playerssports.co.nz/cdn/images/banners/LANDING2/ashinguards20190403175504_0x0.jpg\n",
            "[%] File Downloaded !\n",
            "\n",
            "\n",
            "\n",
            "[!!]Indexing page: 4\n",
            "\n",
            "[%] Indexed 10 Images on Page 4.\n",
            "\n",
            "===============================================\n",
            "\n",
            "[%] Downloading Image #30 from https://i.kinja-img.com/gawker-media/image/upload/s---kHnmafD--/c_fill,fl_progressive,g_center,h_900,q_80,w_1600/vfnvwjmm9mhfpwgbwljw.jpg\n",
            "[%] File Downloaded !\n",
            "\n",
            "\n",
            "\n",
            "[%] Done. Downloaded 30 images.\n",
            "\n",
            "===============================================\n",
            "\n"
          ],
          "name": "stdout"
        }
      ]
    },
    {
      "cell_type": "code",
      "metadata": {
        "colab": {
          "base_uri": "https://localhost:8080/"
        },
        "id": "qSJxisJcLn9x",
        "outputId": "e9e6d274-2023-4c36-f80b-e677323e1815"
      },
      "source": [
        "from bing_image_downloader import  downloader\n",
        "downloader.download(\"apple fruit\",limit=30,output_dir='images',adult_filter_off=True)"
      ],
      "execution_count": 35,
      "outputs": [
        {
          "output_type": "stream",
          "text": [
            "\n",
            "\n",
            "[!!]Indexing page: 1\n",
            "\n",
            "[%] Indexed 12 Images on Page 1.\n",
            "\n",
            "===============================================\n",
            "\n",
            "[%] Downloading Image #1 from https://www.kingsdown-uk.com/wp-content/uploads/2016/10/Fruit.jpg\n",
            "[%] File Downloaded !\n",
            "\n",
            "[%] Downloading Image #2 from https://chocolatewithgrace.com/wp-content/uploads/2018/06/Homemade-Blueberry-Pie-Filling-5.jpg\n",
            "[%] File Downloaded !\n",
            "\n",
            "[%] Downloading Image #3 from http://thegraphicsfairy.com/wp-content/uploads/2014/06/Vintage-Lady-Liberty-Clip-Art-GraphicsFairy.jpg\n",
            "[%] File Downloaded !\n",
            "\n",
            "[%] Downloading Image #4 from http://i1.ytimg.com/vi/AZG7DTeG2p8/hqdefault.jpg\n",
            "[%] File Downloaded !\n",
            "\n",
            "[%] Downloading Image #5 from https://banner2.kisspng.com/20180401/slq/kisspng-oxford-english-dictionary-social-media-face-with-t-laughing-5ac184204f0ef9.7960831115226317123238.jpg\n",
            "[%] File Downloaded !\n",
            "\n",
            "[%] Downloading Image #6 from https://cdn11.bigcommerce.com/s-7a906/images/stencil/1000x1000/products/9795/8765/Stella_Rosa_Rosso__09423.1436546205.jpg?c=2\n",
            "[%] File Downloaded !\n",
            "\n",
            "[%] Downloading Image #7 from http://www.omafra.gov.on.ca/IPM/images/apples/insects/apples_san-jose-scale_04_zoom.jpg\n",
            "[%] File Downloaded !\n",
            "\n",
            "[%] Downloading Image #8 from https://images2.alphacoders.com/481/481967.jpg\n",
            "[!] Issue getting: https://images2.alphacoders.com/481/481967.jpg\n",
            "[!] Error:: HTTP Error 403: Forbidden\n",
            "[%] Downloading Image #8 from http://almostedenplants.com/shopping/images/full/Crataegus%20marshallii%20foliage.jpg\n",
            "[%] File Downloaded !\n",
            "\n",
            "[%] Downloading Image #9 from https://wallpapershome.com/images/wallpapers/cocktails-2160x3840-juice-fruit-pineapple-coconut-melon-ice-745.jpg\n",
            "[%] File Downloaded !\n",
            "\n",
            "[%] Downloading Image #10 from http://www.mommodesign.com/sites/default/files/styles/full_width/public/images/gallery/824/strawberryballoons.jpg?itok=vkpItvao\n",
            "[%] File Downloaded !\n",
            "\n",
            "[%] Downloading Image #11 from http://www.african-organic.com/wp-content/uploads/2015/08/Prod-Applebananas.jpg\n",
            "[%] File Downloaded !\n",
            "\n",
            "\n",
            "\n",
            "[!!]Indexing page: 2\n",
            "\n",
            "[%] Indexed 12 Images on Page 2.\n",
            "\n",
            "===============================================\n",
            "\n",
            "[%] Downloading Image #12 from https://www.kingsdown-uk.com/wp-content/uploads/2016/10/Fruit.jpg\n",
            "[%] File Downloaded !\n",
            "\n",
            "[%] Downloading Image #13 from https://chocolatewithgrace.com/wp-content/uploads/2018/06/Homemade-Blueberry-Pie-Filling-5.jpg\n",
            "[%] File Downloaded !\n",
            "\n",
            "[%] Downloading Image #14 from http://thegraphicsfairy.com/wp-content/uploads/2014/06/Vintage-Lady-Liberty-Clip-Art-GraphicsFairy.jpg\n",
            "[%] File Downloaded !\n",
            "\n",
            "[%] Downloading Image #15 from http://i1.ytimg.com/vi/AZG7DTeG2p8/hqdefault.jpg\n",
            "[%] File Downloaded !\n",
            "\n",
            "[%] Downloading Image #16 from https://banner2.kisspng.com/20180401/slq/kisspng-oxford-english-dictionary-social-media-face-with-t-laughing-5ac184204f0ef9.7960831115226317123238.jpg\n",
            "[%] File Downloaded !\n",
            "\n",
            "[%] Downloading Image #17 from https://cdn11.bigcommerce.com/s-7a906/images/stencil/1000x1000/products/9795/8765/Stella_Rosa_Rosso__09423.1436546205.jpg?c=2\n",
            "[%] File Downloaded !\n",
            "\n",
            "[%] Downloading Image #18 from http://www.omafra.gov.on.ca/IPM/images/apples/insects/apples_san-jose-scale_04_zoom.jpg\n",
            "[%] File Downloaded !\n",
            "\n",
            "[%] Downloading Image #19 from https://images2.alphacoders.com/481/481967.jpg\n",
            "[!] Issue getting: https://images2.alphacoders.com/481/481967.jpg\n",
            "[!] Error:: HTTP Error 403: Forbidden\n",
            "[%] Downloading Image #19 from http://almostedenplants.com/shopping/images/full/Crataegus%20marshallii%20foliage.jpg\n",
            "[%] File Downloaded !\n",
            "\n",
            "[%] Downloading Image #20 from https://wallpapershome.com/images/wallpapers/cocktails-2160x3840-juice-fruit-pineapple-coconut-melon-ice-745.jpg\n",
            "[%] File Downloaded !\n",
            "\n",
            "[%] Downloading Image #21 from http://www.mommodesign.com/sites/default/files/styles/full_width/public/images/gallery/824/strawberryballoons.jpg?itok=vkpItvao\n",
            "[%] File Downloaded !\n",
            "\n",
            "[%] Downloading Image #22 from http://www.african-organic.com/wp-content/uploads/2015/08/Prod-Applebananas.jpg\n",
            "[%] File Downloaded !\n",
            "\n",
            "\n",
            "\n",
            "[!!]Indexing page: 3\n",
            "\n",
            "[%] Indexed 11 Images on Page 3.\n",
            "\n",
            "===============================================\n",
            "\n",
            "[%] Downloading Image #23 from http://i1.ytimg.com/vi/AZG7DTeG2p8/hqdefault.jpg\n",
            "[%] File Downloaded !\n",
            "\n",
            "[%] Downloading Image #24 from https://banner2.kisspng.com/20180401/slq/kisspng-oxford-english-dictionary-social-media-face-with-t-laughing-5ac184204f0ef9.7960831115226317123238.jpg\n",
            "[%] File Downloaded !\n",
            "\n",
            "[%] Downloading Image #25 from http://www.omafra.gov.on.ca/IPM/images/apples/insects/apples_san-jose-scale_04_zoom.jpg\n",
            "[%] File Downloaded !\n",
            "\n",
            "[%] Downloading Image #26 from http://almostedenplants.com/shopping/images/full/Crataegus%20marshallii%20foliage.jpg\n",
            "[%] File Downloaded !\n",
            "\n",
            "[%] Downloading Image #27 from https://wallpapershome.com/images/wallpapers/cocktails-2160x3840-juice-fruit-pineapple-coconut-melon-ice-745.jpg\n",
            "[%] File Downloaded !\n",
            "\n",
            "[%] Downloading Image #28 from http://thegraphicsfairy.com/wp-content/uploads/2014/06/Vintage-Lady-Liberty-Clip-Art-GraphicsFairy.jpg\n",
            "[%] File Downloaded !\n",
            "\n",
            "[%] Downloading Image #29 from http://www.african-organic.com/wp-content/uploads/2015/08/Prod-Applebananas.jpg\n",
            "[%] File Downloaded !\n",
            "\n",
            "[%] Downloading Image #30 from https://images2.alphacoders.com/481/481967.jpg\n",
            "[!] Issue getting: https://images2.alphacoders.com/481/481967.jpg\n",
            "[!] Error:: HTTP Error 403: Forbidden\n",
            "[%] Downloading Image #30 from http://www.mommodesign.com/sites/default/files/styles/full_width/public/images/gallery/824/strawberryballoons.jpg?itok=vkpItvao\n",
            "[%] File Downloaded !\n",
            "\n",
            "\n",
            "\n",
            "[%] Done. Downloaded 30 images.\n",
            "\n",
            "===============================================\n",
            "\n"
          ],
          "name": "stdout"
        }
      ]
    },
    {
      "cell_type": "code",
      "metadata": {
        "colab": {
          "base_uri": "https://localhost:8080/"
        },
        "id": "g1DUX5CbL33L",
        "outputId": "6d881402-7131-4e63-8338-572afb41a080"
      },
      "source": [
        "from bing_image_downloader import  downloader\n",
        "downloader.download(\"sunflower\",limit=30,output_dir='images',adult_filter_off=True)"
      ],
      "execution_count": 36,
      "outputs": [
        {
          "output_type": "stream",
          "text": [
            "\n",
            "\n",
            "[!!]Indexing page: 1\n",
            "\n",
            "[%] Indexed 12 Images on Page 1.\n",
            "\n",
            "===============================================\n",
            "\n",
            "[%] Downloading Image #1 from http://www.minnesotawildflowers.info/udata/r9ndp23q/yellow/stiff-sunflower_0825_182754.jpg\n",
            "[%] File Downloaded !\n",
            "\n",
            "[%] Downloading Image #2 from https://aleaccessories.com/wp-content/uploads/2019/06/5235F751-C0D2-4CEF-9446-AC2846BA90D4.jpeg\n",
            "[%] File Downloaded !\n",
            "\n",
            "[%] Downloading Image #3 from https://www.hdwallpapers.in/download/blue_sky_daisies-1366x768.jpg\n",
            "[%] File Downloaded !\n",
            "\n",
            "[%] Downloading Image #4 from https://www.hdwallpapers.in/download/widescreen_sunflower-1920x1200.jpg\n",
            "[%] File Downloaded !\n",
            "\n",
            "[%] Downloading Image #5 from http://www.wallpapers13.com/wp-content/uploads/2015/12/Sunflower-Field-Wallpaper-2560X1600-3-1920x1440.jpg\n",
            "[%] File Downloaded !\n",
            "\n",
            "[%] Downloading Image #6 from http://cdn.shopify.com/s/files/1/1122/4336/products/Vevet_Queen_2_1024x1024.jpg?v=1454616220\n",
            "[%] File Downloaded !\n",
            "\n",
            "[%] Downloading Image #7 from http://www.flowershopnetwork.com/blog/wp-content/uploads/2013/11/Sympathy-tribute-from-Edgewater-Home-and-Garden-in-Portage-WI.jpg\n",
            "[%] File Downloaded !\n",
            "\n",
            "[%] Downloading Image #8 from http://www.diytomake.com/wp-content/uploads/2015/08/entry-way-table-with-storage-idea.jpg\n",
            "[%] File Downloaded !\n",
            "\n",
            "[%] Downloading Image #9 from https://i.pinimg.com/736x/85/7a/1f/857a1ff3da794fa55382e26090252ee9--good-morning-sunshine-my-sunshine.jpg\n",
            "[%] File Downloaded !\n",
            "\n",
            "[%] Downloading Image #10 from https://ohbestdayever.com/wp-content/uploads/2018/07/rustic-backyard-wedding-hay-bale-seating-ideas.jpg\n",
            "[%] File Downloaded !\n",
            "\n",
            "[%] Downloading Image #11 from https://www.desktopbackground.org/download/540x960/2015/10/01/1019552_beautiful-vintage-photography-tumblr-themes_1680x1050_h.jpg\n",
            "[%] File Downloaded !\n",
            "\n",
            "[%] Downloading Image #12 from https://blog.machinefinder.com/wp-content/uploads/2009/08/20090831215644.jpg\n",
            "[%] File Downloaded !\n",
            "\n",
            "\n",
            "\n",
            "[!!]Indexing page: 2\n",
            "\n",
            "[%] Indexed 12 Images on Page 2.\n",
            "\n",
            "===============================================\n",
            "\n",
            "[%] Downloading Image #13 from http://www.minnesotawildflowers.info/udata/r9ndp23q/yellow/stiff-sunflower_0825_182754.jpg\n",
            "[%] File Downloaded !\n",
            "\n",
            "[%] Downloading Image #14 from https://aleaccessories.com/wp-content/uploads/2019/06/5235F751-C0D2-4CEF-9446-AC2846BA90D4.jpeg\n",
            "[%] File Downloaded !\n",
            "\n",
            "[%] Downloading Image #15 from https://www.hdwallpapers.in/download/blue_sky_daisies-1366x768.jpg\n",
            "[%] File Downloaded !\n",
            "\n",
            "[%] Downloading Image #16 from https://www.hdwallpapers.in/download/widescreen_sunflower-1920x1200.jpg\n",
            "[%] File Downloaded !\n",
            "\n",
            "[%] Downloading Image #17 from http://www.wallpapers13.com/wp-content/uploads/2015/12/Sunflower-Field-Wallpaper-2560X1600-3-1920x1440.jpg\n",
            "[%] File Downloaded !\n",
            "\n",
            "[%] Downloading Image #18 from http://cdn.shopify.com/s/files/1/1122/4336/products/Vevet_Queen_2_1024x1024.jpg?v=1454616220\n",
            "[%] File Downloaded !\n",
            "\n",
            "[%] Downloading Image #19 from http://www.flowershopnetwork.com/blog/wp-content/uploads/2013/11/Sympathy-tribute-from-Edgewater-Home-and-Garden-in-Portage-WI.jpg\n",
            "[%] File Downloaded !\n",
            "\n",
            "[%] Downloading Image #20 from http://www.diytomake.com/wp-content/uploads/2015/08/entry-way-table-with-storage-idea.jpg\n",
            "[%] File Downloaded !\n",
            "\n",
            "[%] Downloading Image #21 from https://i.pinimg.com/736x/85/7a/1f/857a1ff3da794fa55382e26090252ee9--good-morning-sunshine-my-sunshine.jpg\n",
            "[%] File Downloaded !\n",
            "\n",
            "[%] Downloading Image #22 from https://ohbestdayever.com/wp-content/uploads/2018/07/rustic-backyard-wedding-hay-bale-seating-ideas.jpg\n",
            "[%] File Downloaded !\n",
            "\n",
            "[%] Downloading Image #23 from https://www.desktopbackground.org/download/540x960/2015/10/01/1019552_beautiful-vintage-photography-tumblr-themes_1680x1050_h.jpg\n",
            "[%] File Downloaded !\n",
            "\n",
            "[%] Downloading Image #24 from https://blog.machinefinder.com/wp-content/uploads/2009/08/20090831215644.jpg\n",
            "[%] File Downloaded !\n",
            "\n",
            "\n",
            "\n",
            "[!!]Indexing page: 3\n",
            "\n",
            "[%] Indexed 11 Images on Page 3.\n",
            "\n",
            "===============================================\n",
            "\n",
            "[%] Downloading Image #25 from https://www.hdwallpapers.in/download/widescreen_sunflower-1920x1200.jpg\n",
            "[%] File Downloaded !\n",
            "\n",
            "[%] Downloading Image #26 from https://aleaccessories.com/wp-content/uploads/2019/06/5235F751-C0D2-4CEF-9446-AC2846BA90D4.jpeg\n",
            "[%] File Downloaded !\n",
            "\n",
            "[%] Downloading Image #27 from http://www.diytomake.com/wp-content/uploads/2015/08/entry-way-table-with-storage-idea.jpg\n",
            "[%] File Downloaded !\n",
            "\n",
            "[%] Downloading Image #28 from http://cdn.shopify.com/s/files/1/1122/4336/products/Vevet_Queen_2_1024x1024.jpg?v=1454616220\n",
            "[%] File Downloaded !\n",
            "\n",
            "[%] Downloading Image #29 from https://ohbestdayever.com/wp-content/uploads/2018/07/rustic-backyard-wedding-hay-bale-seating-ideas.jpg\n",
            "[%] File Downloaded !\n",
            "\n",
            "[%] Downloading Image #30 from https://i.pinimg.com/736x/85/7a/1f/857a1ff3da794fa55382e26090252ee9--good-morning-sunshine-my-sunshine.jpg\n",
            "[%] File Downloaded !\n",
            "\n",
            "\n",
            "\n",
            "[%] Done. Downloaded 30 images.\n",
            "\n",
            "===============================================\n",
            "\n"
          ],
          "name": "stdout"
        }
      ]
    },
    {
      "cell_type": "code",
      "metadata": {
        "colab": {
          "base_uri": "https://localhost:8080/"
        },
        "id": "GcOIVcM7MD7w",
        "outputId": "041c255c-ff39-42d1-84a4-c80752c97e7d"
      },
      "source": [
        "import numpy as np\n",
        "\n",
        "a = np.array([[1,2,3,4,5],\n",
        "             [4,5,6,7,8]])\n",
        "a.ndim"
      ],
      "execution_count": 37,
      "outputs": [
        {
          "output_type": "execute_result",
          "data": {
            "text/plain": [
              "2"
            ]
          },
          "metadata": {
            "tags": []
          },
          "execution_count": 37
        }
      ]
    },
    {
      "cell_type": "code",
      "metadata": {
        "colab": {
          "base_uri": "https://localhost:8080/"
        },
        "id": "z6EifZoXMNmI",
        "outputId": "583c3666-a474-4e03-b134-c6db2dca33f4"
      },
      "source": [
        "a.flatten()"
      ],
      "execution_count": 38,
      "outputs": [
        {
          "output_type": "execute_result",
          "data": {
            "text/plain": [
              "array([1, 2, 3, 4, 5, 4, 5, 6, 7, 8])"
            ]
          },
          "metadata": {
            "tags": []
          },
          "execution_count": 38
        }
      ]
    },
    {
      "cell_type": "code",
      "metadata": {
        "colab": {
          "base_uri": "https://localhost:8080/"
        },
        "id": "Lb6vj83cMRwW",
        "outputId": "7d69f792-4cbf-4c02-aaea-573f5446de38"
      },
      "source": [
        "np.ndarray.flatten(a)"
      ],
      "execution_count": 39,
      "outputs": [
        {
          "output_type": "execute_result",
          "data": {
            "text/plain": [
              "array([1, 2, 3, 4, 5, 4, 5, 6, 7, 8])"
            ]
          },
          "metadata": {
            "tags": []
          },
          "execution_count": 39
        }
      ]
    },
    {
      "cell_type": "code",
      "metadata": {
        "id": "XDx_3wdmMTBk"
      },
      "source": [
        "import os\n",
        "import matplotlib.pyplot as plt\n",
        "import numpy as np\n",
        "from skimage.io import imread\n",
        "from skimage.transform import resize\n",
        "\n",
        "target = []\n",
        "images = []\n",
        "flat_data = []\n",
        "\n",
        "DATADIR = '/content/images'\n",
        "CATEGORIES=['sport cricket bat','apple fruit','sunflower']\n",
        "\n",
        "for category in CATEGORIES:\n",
        "  class_num = CATEGORIES.index (category)\n",
        "  path = os.path.join(DATADIR,category)\n",
        "  for img in os.listdir(path):\n",
        "   img_array = imread(os.path.join(path,img))\n",
        "   #print(img_array.shape)\n",
        "   #plt.imshow(img_array)\n",
        "   img_resized = resize(img_array,(150,150,3))\n",
        "   flat_data.append(img_resized.flatten())\n",
        "   images.append(img_resized)\n",
        "   target.append(class_num)\n",
        "\n",
        "flat_data = np.array(flat_data)\n",
        "target = np.array(target)\n",
        "images = np.array(images)"
      ],
      "execution_count": 40,
      "outputs": []
    },
    {
      "cell_type": "code",
      "metadata": {
        "colab": {
          "base_uri": "https://localhost:8080/"
        },
        "id": "fb6mbtaaM80T",
        "outputId": "b5bb2a5d-7382-425a-b0db-2315885a1bd3"
      },
      "source": [
        "flat_data[0]"
      ],
      "execution_count": 41,
      "outputs": [
        {
          "output_type": "execute_result",
          "data": {
            "text/plain": [
              "array([0.        , 0.        , 0.        , ..., 0.23803922, 0.42235294,\n",
              "       0.87777778])"
            ]
          },
          "metadata": {
            "tags": []
          },
          "execution_count": 41
        }
      ]
    },
    {
      "cell_type": "code",
      "metadata": {
        "colab": {
          "base_uri": "https://localhost:8080/"
        },
        "id": "ZRw-1j4kNA-m",
        "outputId": "95efe6a3-0f15-4b58-ff4b-5c7ea0839a89"
      },
      "source": [
        "len(flat_data[0])"
      ],
      "execution_count": 42,
      "outputs": [
        {
          "output_type": "execute_result",
          "data": {
            "text/plain": [
              "67500"
            ]
          },
          "metadata": {
            "tags": []
          },
          "execution_count": 42
        }
      ]
    },
    {
      "cell_type": "code",
      "metadata": {
        "colab": {
          "base_uri": "https://localhost:8080/"
        },
        "id": "iUaL3fwJNDVY",
        "outputId": "982d8c57-b389-4f19-a8e5-e5af2e102202"
      },
      "source": [
        "150*150*3"
      ],
      "execution_count": 43,
      "outputs": [
        {
          "output_type": "execute_result",
          "data": {
            "text/plain": [
              "67500"
            ]
          },
          "metadata": {
            "tags": []
          },
          "execution_count": 43
        }
      ]
    },
    {
      "cell_type": "code",
      "metadata": {
        "colab": {
          "base_uri": "https://localhost:8080/"
        },
        "id": "4qbeQWnUNG4K",
        "outputId": "b17e08f8-33b9-4d38-b274-d67ae953ccd4"
      },
      "source": [
        "target"
      ],
      "execution_count": 44,
      "outputs": [
        {
          "output_type": "execute_result",
          "data": {
            "text/plain": [
              "array([0, 0, 0, 0, 0, 0, 0, 0, 0, 0, 0, 0, 0, 0, 0, 0, 0, 0, 0, 0, 0, 0,\n",
              "       0, 0, 0, 0, 0, 0, 0, 0, 0, 1, 1, 1, 1, 1, 1, 1, 1, 1, 1, 1, 1, 1,\n",
              "       1, 1, 1, 1, 1, 1, 1, 1, 1, 1, 1, 1, 1, 1, 1, 1, 1, 2, 2, 2, 2, 2,\n",
              "       2, 2, 2, 2, 2, 2, 2, 2, 2, 2, 2, 2, 2, 2, 2, 2, 2, 2, 2, 2, 2, 2,\n",
              "       2, 2, 2])"
            ]
          },
          "metadata": {
            "tags": []
          },
          "execution_count": 44
        }
      ]
    },
    {
      "cell_type": "code",
      "metadata": {
        "colab": {
          "base_uri": "https://localhost:8080/",
          "height": 282
        },
        "id": "N_A3jP7eNGye",
        "outputId": "5eea97f4-63c3-4149-a15e-e5d80a0d9713"
      },
      "source": [
        "unique,count = np.unique(target,return_counts=True)\n",
        "plt.bar(CATEGORIES,count)"
      ],
      "execution_count": 45,
      "outputs": [
        {
          "output_type": "execute_result",
          "data": {
            "text/plain": [
              "<BarContainer object of 3 artists>"
            ]
          },
          "metadata": {
            "tags": []
          },
          "execution_count": 45
        },
        {
          "output_type": "display_data",
          "data": {
            "image/png": "[encoded data removed]",
            "text/plain": [
              "<Figure size 432x288 with 1 Axes>"
            ]
          },
          "metadata": {
            "tags": [],
            "needs_background": "light"
          }
        }
      ]
    },
    {
      "cell_type": "code",
      "metadata": {
        "id": "T5Eqm3gaNMKT"
      },
      "source": [
        "from sklearn.model_selection import train_test_split\n",
        "x_train,x_test,y_train,y_test = train_test_split(flat_data,target,\n",
        "                                                 test_size=0.3,random_state=109)"
      ],
      "execution_count": 46,
      "outputs": []
    },
    {
      "cell_type": "code",
      "metadata": {
        "id": "WMHlFR5lNL_V"
      },
      "source": [
        "from sklearn.model_selection import GridSearchCV\n",
        "from sklearn import svm\n",
        "param_grid = [\n",
        "              {'C':[1,10,100,1000],'kernel':['linear']},\n",
        "              {'C':[1,10,100,1000],'gamma':[0.001,0.0001],'kernel':['rbf'] }\n",
        "]\n",
        "\n",
        "svc = svm.SVC(probability=True)\n",
        "clf = GridSearchCV(svc,param_grid)\n",
        "clf.fit(x_train,y_train)"
      ],
      "execution_count": null,
      "outputs": []
    },
    {
      "cell_type": "code",
      "metadata": {
        "id": "k4yIal7aNL1-"
      },
      "source": [
        "y_pred = clf.predict(x_test)\n",
        "y_pred"
      ],
      "execution_count": null,
      "outputs": []
    },
    {
      "cell_type": "code",
      "metadata": {
        "id": "1DuFvgv1NLq7"
      },
      "source": [
        "y_test"
      ],
      "execution_count": null,
      "outputs": []
    },
    {
      "cell_type": "code",
      "metadata": {
        "id": "WwZrki03NSnE"
      },
      "source": [
        "from sklearn.metrics import accuracy_score,confusion_matrix"
      ],
      "execution_count": null,
      "outputs": []
    },
    {
      "cell_type": "code",
      "metadata": {
        "id": "ixZ8D7AaNSfK"
      },
      "source": [
        "accuracy_score(y_pred,y_test)"
      ],
      "execution_count": null,
      "outputs": []
    },
    {
      "cell_type": "code",
      "metadata": {
        "id": "sm8BUJGjNSX7"
      },
      "source": [
        "confusion_matrix(y_pred,y_test)"
      ],
      "execution_count": null,
      "outputs": []
    },
    {
      "cell_type": "code",
      "metadata": {
        "id": "RbQpZOsvNSMp"
      },
      "source": [
        "import pickle\n",
        "pickle.dump(clf,open('img_model.p','wb'))"
      ],
      "execution_count": null,
      "outputs": []
    },
    {
      "cell_type": "code",
      "metadata": {
        "id": "un55hh1tN2gm"
      },
      "source": [
        "model = pickle.load(open('img_model.p','rb'))"
      ],
      "execution_count": null,
      "outputs": []
    },
    {
      "cell_type": "code",
      "metadata": {
        "id": "Wof76KD3N2bT"
      },
      "source": [
        "flat_data = []\n",
        "url = input('Enter your URL')\n",
        "img = imread(url)\n",
        "img_resized = resize(img,(150,150,3))\n",
        "flat_data.append(img_resized.flatten())\n",
        "flat_data = np.array(flat_data)\n",
        "print(img.shape)\n",
        "plt.imshow(img_resized)\n",
        "y_out = model.predict(flat_data)\n",
        "y_out = CATEGORIES[y_out[0]]\n",
        "print(f' PREDICTED OUTPUT: {y_out}')"
      ],
      "execution_count": null,
      "outputs": []
    },
    {
      "cell_type": "code",
      "metadata": {
        "id": "8mtbViNFVmQ1"
      },
      "source": [
        "!pip install streamlit\n",
        "\n",
        "!pip install pyngrok\n",
        "from pyngrok import ngrok\n"
      ],
      "execution_count": null,
      "outputs": []
    },
    {
      "cell_type": "code",
      "metadata": {
        "id": "XR8vl0ghN2V4"
      },
      "source": [
        "%%writefile app.py\n",
        "import streamlit as st\n",
        "import numpy as np\n",
        "from skimage.io import imread\n",
        "from skimage.transform import resize\n",
        "import pickle\n",
        "from PIL import image \n",
        "st.title('Image Classifier')\n",
        "st.text('upload the image')\n",
        "model = pickle.load(open('img_model.p','rb'))\n",
        "\n",
        "uploaded_file = st.file_uploader(\"Choose an image...\", type=\"jpg\" )\n",
        "if uploaded_file is not None:\n",
        "  img = Image.open(upoladed_file)\n",
        "  st.image(img,caption='Uploaded Image')\n",
        "\n",
        "  if st.button('PREDICT'):\n",
        "    CATEGORIES=['sport cricket bat','apple fruit','sunflower']\n",
        "    st.write('Result...')\n",
        "    flat_data=[]\n",
        "    img = np.array(img)\n",
        "    img_resized = resize(img,(150,150,3))\n",
        "    flat_data.append(img_resized.flatten())\n",
        "    flat_data = np.array(flat_data)\n",
        "    y_out = model.predict(flat_data)\n",
        "    y_out = CATEGORIES[y_out[0]]\n",
        "    st.title(f' PREDICTED OUTPUT: {y_out}')\n",
        "    q = model.predict_proba(flat_data)\n",
        "    for index,  item in enumerate(CATEGORIES):\n",
        "      st.write('{item} : {q[0][index]*100}%')\n",
        " "
      ],
      "execution_count": null,
      "outputs": []
    },
    {
      "cell_type": "code",
      "metadata": {
        "id": "Q6wKawQvN2Px"
      },
      "source": [
        "!nohup streamlit run app.py &\n",
        "\n",
        "url = ngrok.connect(port='8501')\n",
        "url"
      ],
      "execution_count": null,
      "outputs": []
    },
    {
      "cell_type": "code",
      "metadata": {
        "id": "DL-tZPf1N2IS"
      },
      "source": [
        ""
      ],
      "execution_count": null,
      "outputs": []
    }
  ]
}